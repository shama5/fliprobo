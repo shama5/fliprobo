{
 "cells": [
  {
   "cell_type": "code",
   "execution_count": 3,
   "metadata": {},
   "outputs": [],
   "source": [
    "#import all the required libraries\n",
    "import pandas as pd\n",
    "from bs4 import BeautifulSoup\n",
    "import time\n",
    "import requests\n",
    "import selenium\n",
    "from selenium import webdriver\n",
    "from selenium.webdriver.chrome.options import Options\n",
    "from selenium.webdriver.common.by import By\n",
    "from selenium.webdriver.support.ui import WebDriverWait\n",
    "from selenium.webdriver.support import expected_conditions as EC\n",
    "from selenium.common.exceptions import StaleElementReferenceException, NoSuchElementException ,TimeoutException"
   ]
  },
  {
   "cell_type": "code",
   "execution_count": 4,
   "metadata": {},
   "outputs": [],
   "source": [
    "from tqdm import tqdm"
   ]
  },
  {
   "cell_type": "code",
   "execution_count": 5,
   "metadata": {},
   "outputs": [],
   "source": [
    "productname=['laptops']\n",
    "prolink1=[]\n",
    "review=[]\n",
    "rating=[]"
   ]
  },
  {
   "cell_type": "code",
   "execution_count": 6,
   "metadata": {},
   "outputs": [],
   "source": [
    "driver=webdriver.Chrome(\"C:/Users/DELL/chromedriver.exe\")\n",
    "driver.get(\"https://www.flipkart.com/\")"
   ]
  },
  {
   "cell_type": "code",
   "execution_count": 7,
   "metadata": {},
   "outputs": [],
   "source": [
    "\n",
    "#Closing the Pop-up button appearing on the page\n",
    "close_button=driver.find_element_by_xpath(\"//button[@class='_2KpZ6l _2doB4z']\")\n",
    "close_button.click()"
   ]
  },
  {
   "cell_type": "code",
   "execution_count": 8,
   "metadata": {},
   "outputs": [],
   "source": [
    "for m in productname:\n",
    "    search = driver. find_element_by_xpath(\"//div[@class='_3OO5Xc']/input\")\n",
    "    search.clear()\n",
    "    search.send_keys(m)\n",
    "    search_btn = driver.find_element_by_xpath(\"//button[@class='L0Z3Pu']\")\n",
    "    search_btn.click()\n",
    "    for j in range(0,20):\n",
    "        time.sleep(2)\n",
    "        plink=driver.find_elements_by_xpath(\"//a[@class = '_1fQZEK']\")\n",
    "        for i in plink:\n",
    "            h=i.get_attribute('href')\n",
    "            prolink1.append(h)\n",
    "        try:\n",
    "            driver.find_element_by_xpath(\"//a[@class='_1LKTO3'][2]\").click()\n",
    "\n",
    "        except:\n",
    "\n",
    "            driver.find_element_by_xpath(\"//a[@class='_1LKTO3']\").click()"
   ]
  },
  {
   "cell_type": "code",
   "execution_count": 9,
   "metadata": {},
   "outputs": [
    {
     "data": {
      "text/plain": [
       "480"
      ]
     },
     "execution_count": 9,
     "metadata": {},
     "output_type": "execute_result"
    }
   ],
   "source": [
    "len(prolink1)"
   ]
  },
  {
   "cell_type": "code",
   "execution_count": 10,
   "metadata": {},
   "outputs": [],
   "source": [
    "\n",
    "temp = prolink1[::]"
   ]
  },
  {
   "cell_type": "code",
   "execution_count": 11,
   "metadata": {},
   "outputs": [
    {
     "data": {
      "text/plain": [
       "480"
      ]
     },
     "execution_count": 11,
     "metadata": {},
     "output_type": "execute_result"
    }
   ],
   "source": [
    "len(temp)"
   ]
  },
  {
   "cell_type": "code",
   "execution_count": 12,
   "metadata": {},
   "outputs": [
    {
     "name": "stderr",
     "output_type": "stream",
     "text": [
      "100%|██████████| 480/480 [31:34<00:00,  3.95s/it]\n"
     ]
    }
   ],
   "source": [
    "\n",
    "for a in tqdm(temp[::-1]):    \n",
    "    driver.get(a)\n",
    "    try:\n",
    "        xt=driver.find_element_by_xpath(\"//div[@class= 'col JOpGWq']/a\")\n",
    "        if xt != None:\n",
    "            tt=xt.get_attribute(\"href\")\n",
    "            driver.get(tt)\n",
    "            \n",
    "            xt1=driver.find_elements_by_xpath(\"//div[@class='_3LWZlK _1BLPMq' or @class='_3LWZlK _32lA32 _1BLPMq' or @class='_3LWZlK _1rdVr6 _1BLPMq']\") \n",
    "            for i in xt1:\n",
    "                ratings=i.text\n",
    "                rating.append(ratings)\n",
    "                       \n",
    "            xt2=driver.find_elements_by_xpath(\"//div[@class= 't-ZTKy']\") \n",
    "            for i in xt2:\n",
    "                reviews=i.text.replace('\\n',' ')\n",
    "                review.append(reviews)\n",
    "            time.sleep(3)\n",
    "            \n",
    "    except(NoSuchElementException):\n",
    "        pass\n",
    "    temp.pop()"
   ]
  },
  {
   "cell_type": "code",
   "execution_count": null,
   "metadata": {},
   "outputs": [],
   "source": []
  },
  {
   "cell_type": "code",
   "execution_count": 13,
   "metadata": {},
   "outputs": [
    {
     "data": {
      "text/plain": [
       "2112"
      ]
     },
     "execution_count": 13,
     "metadata": {},
     "output_type": "execute_result"
    }
   ],
   "source": [
    "len(review)"
   ]
  },
  {
   "cell_type": "code",
   "execution_count": 14,
   "metadata": {},
   "outputs": [
    {
     "data": {
      "text/plain": [
       "2112"
      ]
     },
     "execution_count": 14,
     "metadata": {},
     "output_type": "execute_result"
    }
   ],
   "source": [
    "len(rating)"
   ]
  },
  {
   "cell_type": "code",
   "execution_count": 15,
   "metadata": {},
   "outputs": [],
   "source": [
    "driver=webdriver.Chrome(\"C:/Users/DELL/chromedriver.exe\")\n",
    "driver.get(\"https://www.flipkart.com/\")\n",
    "#Closing the Pop-up button appearing on the page\n",
    "close_button=driver.find_element_by_xpath(\"//button[@class='_2KpZ6l _2doB4z']\")\n",
    "close_button.click()"
   ]
  },
  {
   "cell_type": "code",
   "execution_count": 16,
   "metadata": {},
   "outputs": [],
   "source": [
    "productname=['phone']\n",
    "prolink2=[]\n",
    "links2=[]"
   ]
  },
  {
   "cell_type": "code",
   "execution_count": 17,
   "metadata": {},
   "outputs": [],
   "source": [
    "for m in productname:\n",
    "    search = driver. find_element_by_xpath(\"//div[@class='_3OO5Xc']/input\")\n",
    "    search.clear()\n",
    "    search.send_keys(m)\n",
    "    search_btn = driver.find_element_by_xpath(\"//button[@class='L0Z3Pu']\")\n",
    "    search_btn.click()\n",
    "    for j in range(0,20):\n",
    "        time.sleep(2)\n",
    "        plink=driver.find_elements_by_xpath(\"//a[@class = '_2rpwqI']\")\n",
    "        for i in plink:\n",
    "            h=i.get_attribute('href')\n",
    "            prolink2.append(h)\n",
    "        try:\n",
    "            driver.find_element_by_xpath(\"//a[@class='_1LKTO3'][2]\").click()\n",
    "\n",
    "        except:\n",
    "\n",
    "            driver.find_element_by_xpath(\"//a[@class='_1LKTO3']\").click()"
   ]
  },
  {
   "cell_type": "code",
   "execution_count": 18,
   "metadata": {},
   "outputs": [
    {
     "data": {
      "text/plain": [
       "800"
      ]
     },
     "execution_count": 18,
     "metadata": {},
     "output_type": "execute_result"
    }
   ],
   "source": [
    "len(prolink2)"
   ]
  },
  {
   "cell_type": "code",
   "execution_count": 19,
   "metadata": {},
   "outputs": [],
   "source": [
    "temp = prolink2[::]\n"
   ]
  },
  {
   "cell_type": "code",
   "execution_count": 20,
   "metadata": {},
   "outputs": [
    {
     "data": {
      "text/plain": [
       "800"
      ]
     },
     "execution_count": 20,
     "metadata": {},
     "output_type": "execute_result"
    }
   ],
   "source": [
    "len(temp)"
   ]
  },
  {
   "cell_type": "code",
   "execution_count": 21,
   "metadata": {},
   "outputs": [
    {
     "name": "stderr",
     "output_type": "stream",
     "text": [
      "100%|██████████| 800/800 [1:27:34<00:00,  6.57s/it]\n"
     ]
    }
   ],
   "source": [
    "\n",
    "for a in tqdm(temp[::-1]):    \n",
    "    driver.get(a)\n",
    "    try:\n",
    "        xt=driver.find_element_by_xpath(\"//div[@class= 'col JOpGWq']/a\")\n",
    "        if xt != None:\n",
    "            tt=xt.get_attribute(\"href\")\n",
    "            driver.get(tt)\n",
    "            \n",
    "            xt1=driver.find_elements_by_xpath(\"//div[@class='_3LWZlK _1BLPMq' or @class='_3LWZlK _32lA32 _1BLPMq' or @class='_3LWZlK _1rdVr6 _1BLPMq']\") \n",
    "            for i in xt1:\n",
    "                ratings=i.text\n",
    "                rating.append(ratings)\n",
    "                       \n",
    "            xt2=driver.find_elements_by_xpath(\"//div[@class= 't-ZTKy']\") \n",
    "            for i in xt2:\n",
    "                reviews=i.text.replace('\\n',' ')\n",
    "                review.append(reviews)\n",
    "            time.sleep(3)\n",
    "            \n",
    "    except(NoSuchElementException):\n",
    "        pass\n",
    "    temp.pop()"
   ]
  },
  {
   "cell_type": "code",
   "execution_count": 22,
   "metadata": {},
   "outputs": [
    {
     "data": {
      "text/plain": [
       "9605"
      ]
     },
     "execution_count": 22,
     "metadata": {},
     "output_type": "execute_result"
    }
   ],
   "source": [
    "len(rating)"
   ]
  },
  {
   "cell_type": "code",
   "execution_count": 23,
   "metadata": {},
   "outputs": [],
   "source": [
    "productname=['headphones']\n",
    "prolink3=[]"
   ]
  },
  {
   "cell_type": "code",
   "execution_count": 24,
   "metadata": {},
   "outputs": [],
   "source": [
    "\n",
    "driver.get(\"https://www.flipkart.com/\")"
   ]
  },
  {
   "cell_type": "code",
   "execution_count": 25,
   "metadata": {},
   "outputs": [],
   "source": [
    "for m in productname:\n",
    "    search = driver. find_element_by_xpath(\"//div[@class='_3OO5Xc']/input\")\n",
    "    search.clear()\n",
    "    search.send_keys(m)\n",
    "    search_btn = driver.find_element_by_xpath(\"//button[@class='L0Z3Pu']\")\n",
    "    search_btn.click()\n",
    "    for j in range(0,20):\n",
    "        time.sleep(2)\n",
    "        plink=driver.find_elements_by_xpath(\"//a[@class = '_2rpwqI']\")\n",
    "        for i in plink:\n",
    "            h=i.get_attribute('href')\n",
    "            prolink3.append(h)\n",
    "        try:\n",
    "            driver.find_element_by_xpath(\"//a[@class='_1LKTO3'][2]\").click()\n",
    "\n",
    "        except:\n",
    "\n",
    "            driver.find_element_by_xpath(\"//a[@class='_1LKTO3']\").click()"
   ]
  },
  {
   "cell_type": "code",
   "execution_count": 26,
   "metadata": {},
   "outputs": [
    {
     "data": {
      "text/plain": [
       "800"
      ]
     },
     "execution_count": 26,
     "metadata": {},
     "output_type": "execute_result"
    }
   ],
   "source": [
    "len(prolink3)"
   ]
  },
  {
   "cell_type": "code",
   "execution_count": 27,
   "metadata": {},
   "outputs": [],
   "source": [
    "temp = prolink3[::]"
   ]
  },
  {
   "cell_type": "code",
   "execution_count": 28,
   "metadata": {},
   "outputs": [
    {
     "name": "stderr",
     "output_type": "stream",
     "text": [
      "100%|██████████| 800/800 [1:19:52<00:00,  5.99s/it]  \n"
     ]
    }
   ],
   "source": [
    "for a in tqdm(temp[::-1]):    \n",
    "    driver.get(a)\n",
    "    try:\n",
    "        xt=driver.find_element_by_xpath(\"//div[@class= 'col JOpGWq']/a\")\n",
    "        if xt != None:\n",
    "            tt=xt.get_attribute(\"href\")\n",
    "            driver.get(tt)\n",
    "            \n",
    "            xt1=driver.find_elements_by_xpath(\"//div[@class='_3LWZlK _1BLPMq' or @class='_3LWZlK _32lA32 _1BLPMq' or @class='_3LWZlK _1rdVr6 _1BLPMq']\") \n",
    "            for i in xt1:\n",
    "                ratings=i.text\n",
    "                rating.append(ratings)\n",
    "                       \n",
    "            xt2=driver.find_elements_by_xpath(\"//div[@class= 't-ZTKy']\") \n",
    "            for i in xt2:\n",
    "                reviews=i.text.replace('\\n',' ')\n",
    "                review.append(reviews)\n",
    "            time.sleep(3)\n",
    "            \n",
    "    except(NoSuchElementException):\n",
    "        pass\n",
    "    temp.pop()"
   ]
  },
  {
   "cell_type": "code",
   "execution_count": 29,
   "metadata": {},
   "outputs": [
    {
     "data": {
      "text/plain": [
       "16391"
      ]
     },
     "execution_count": 29,
     "metadata": {},
     "output_type": "execute_result"
    }
   ],
   "source": [
    "len(rating)"
   ]
  },
  {
   "cell_type": "code",
   "execution_count": 30,
   "metadata": {},
   "outputs": [
    {
     "data": {
      "text/plain": [
       "16391"
      ]
     },
     "execution_count": 30,
     "metadata": {},
     "output_type": "execute_result"
    }
   ],
   "source": [
    "len(review)"
   ]
  },
  {
   "cell_type": "code",
   "execution_count": null,
   "metadata": {},
   "outputs": [],
   "source": []
  },
  {
   "cell_type": "code",
   "execution_count": 35,
   "metadata": {},
   "outputs": [],
   "source": [
    "productname=['professional camera']\n",
    "prolink4=[]"
   ]
  },
  {
   "cell_type": "code",
   "execution_count": 36,
   "metadata": {},
   "outputs": [],
   "source": [
    "driver.get(\"https://www.flipkart.com/\")"
   ]
  },
  {
   "cell_type": "code",
   "execution_count": 37,
   "metadata": {},
   "outputs": [],
   "source": [
    "for m in productname:\n",
    "    search = driver. find_element_by_xpath(\"//div[@class='_3OO5Xc']/input\")\n",
    "    search.clear()\n",
    "    search.send_keys(m)\n",
    "    search_btn = driver.find_element_by_xpath(\"//button[@class='L0Z3Pu']\")\n",
    "    search_btn.click()\n",
    "    for j in range(0,5):\n",
    "        time.sleep(2)\n",
    "        plink=driver.find_elements_by_xpath(\"//a[@class = '_2rpwqI']\")\n",
    "        for i in plink:\n",
    "            h=i.get_attribute('href')\n",
    "            prolink4.append(h)\n",
    "        try:\n",
    "            driver.find_element_by_xpath(\"//a[@class='_1LKTO3'][2]\").click()\n",
    "\n",
    "        except:\n",
    "\n",
    "            driver.find_element_by_xpath(\"//a[@class='_1LKTO3']\").click()"
   ]
  },
  {
   "cell_type": "code",
   "execution_count": 38,
   "metadata": {},
   "outputs": [
    {
     "data": {
      "text/plain": [
       "200"
      ]
     },
     "execution_count": 38,
     "metadata": {},
     "output_type": "execute_result"
    }
   ],
   "source": [
    "len(prolink4)"
   ]
  },
  {
   "cell_type": "code",
   "execution_count": 39,
   "metadata": {},
   "outputs": [
    {
     "name": "stderr",
     "output_type": "stream",
     "text": [
      "100%|██████████| 200/200 [23:49<00:00,  7.15s/it]\n"
     ]
    }
   ],
   "source": [
    "temp = prolink4[::]\n",
    "\n",
    "for a in tqdm(temp[::-1]):    \n",
    "    driver.get(a)\n",
    "    try:\n",
    "        xt=driver.find_element_by_xpath(\"//div[@class= 'col JOpGWq']/a\")\n",
    "        if xt != None:\n",
    "            tt=xt.get_attribute(\"href\")\n",
    "            driver.get(tt)\n",
    "            \n",
    "            xt1=driver.find_elements_by_xpath(\"//div[@class='_3LWZlK _1BLPMq' or @class='_3LWZlK _32lA32 _1BLPMq' or @class='_3LWZlK _1rdVr6 _1BLPMq']\") \n",
    "            for i in xt1:\n",
    "                ratings=i.text\n",
    "                rating.append(ratings)\n",
    "                       \n",
    "            xt2=driver.find_elements_by_xpath(\"//div[@class= 't-ZTKy']\") \n",
    "            for i in xt2:\n",
    "                reviews=i.text.replace('\\n',' ')\n",
    "                review.append(reviews)\n",
    "            time.sleep(3)\n",
    "            \n",
    "    except(NoSuchElementException):\n",
    "        pass\n",
    "    temp.pop()"
   ]
  },
  {
   "cell_type": "code",
   "execution_count": 40,
   "metadata": {},
   "outputs": [
    {
     "data": {
      "text/plain": [
       "17566"
      ]
     },
     "execution_count": 40,
     "metadata": {},
     "output_type": "execute_result"
    }
   ],
   "source": [
    "len(review)"
   ]
  },
  {
   "cell_type": "code",
   "execution_count": 41,
   "metadata": {},
   "outputs": [],
   "source": [
    "productname=['printer']\n",
    "prolink5=[]"
   ]
  },
  {
   "cell_type": "code",
   "execution_count": 42,
   "metadata": {},
   "outputs": [],
   "source": [
    "driver.get(\"https://www.flipkart.com/\")"
   ]
  },
  {
   "cell_type": "code",
   "execution_count": 43,
   "metadata": {},
   "outputs": [],
   "source": [
    "for m in productname:\n",
    "    search = driver. find_element_by_xpath(\"//div[@class='_3OO5Xc']/input\")\n",
    "    search.clear()\n",
    "    search.send_keys(m)\n",
    "    search_btn = driver.find_element_by_xpath(\"//button[@class='L0Z3Pu']\")\n",
    "    search_btn.click()\n",
    "    for j in range(0,6):\n",
    "        time.sleep(2)\n",
    "        plink=driver.find_elements_by_xpath(\"//a[@class = '_2rpwqI']\")\n",
    "        for i in plink:\n",
    "            h=i.get_attribute('href')\n",
    "            prolink5.append(h)\n",
    "            \n",
    "        try:\n",
    "            driver.find_element_by_xpath(\"//a[@class='_1LKTO3'][2]\").click()\n",
    "\n",
    "        except:\n",
    "\n",
    "            driver.find_element_by_xpath(\"//a[@class='_1LKTO3']\").click()"
   ]
  },
  {
   "cell_type": "code",
   "execution_count": 44,
   "metadata": {},
   "outputs": [
    {
     "data": {
      "text/plain": [
       "240"
      ]
     },
     "execution_count": 44,
     "metadata": {},
     "output_type": "execute_result"
    }
   ],
   "source": [
    "len(prolink5)"
   ]
  },
  {
   "cell_type": "code",
   "execution_count": 45,
   "metadata": {},
   "outputs": [],
   "source": [
    "temp = prolink5[::]"
   ]
  },
  {
   "cell_type": "code",
   "execution_count": 46,
   "metadata": {},
   "outputs": [
    {
     "name": "stderr",
     "output_type": "stream",
     "text": [
      "100%|██████████| 240/240 [32:11<00:00,  8.05s/it] \n"
     ]
    }
   ],
   "source": [
    "for a in tqdm(temp[::-1]):    \n",
    "    driver.get(a)\n",
    "    try:\n",
    "        xt=driver.find_element_by_xpath(\"//div[@class= 'col JOpGWq']/a\")\n",
    "        if xt != None:\n",
    "            tt=xt.get_attribute(\"href\")\n",
    "            driver.get(tt)\n",
    "            \n",
    "            xt1=driver.find_elements_by_xpath(\"//div[@class='_3LWZlK _1BLPMq' or @class='_3LWZlK _32lA32 _1BLPMq' or @class='_3LWZlK _1rdVr6 _1BLPMq']\") \n",
    "            for i in xt1:\n",
    "                ratings=i.text\n",
    "                rating.append(ratings)\n",
    "                       \n",
    "            xt2=driver.find_elements_by_xpath(\"//div[@class= 't-ZTKy']\") \n",
    "            for i in xt2:\n",
    "                reviews=i.text.replace('\\n',' ')\n",
    "                review.append(reviews)\n",
    "            time.sleep(3)\n",
    "            \n",
    "    except(NoSuchElementException):\n",
    "        pass\n",
    "    temp.pop()"
   ]
  },
  {
   "cell_type": "code",
   "execution_count": 47,
   "metadata": {},
   "outputs": [
    {
     "data": {
      "text/plain": [
       "19072"
      ]
     },
     "execution_count": 47,
     "metadata": {},
     "output_type": "execute_result"
    }
   ],
   "source": [
    "len(review)"
   ]
  },
  {
   "cell_type": "code",
   "execution_count": 48,
   "metadata": {},
   "outputs": [],
   "source": [
    "productname=['router']\n",
    "prolink6=[]"
   ]
  },
  {
   "cell_type": "code",
   "execution_count": 49,
   "metadata": {},
   "outputs": [],
   "source": [
    "driver.get(\"https://www.flipkart.com/\")"
   ]
  },
  {
   "cell_type": "code",
   "execution_count": 50,
   "metadata": {},
   "outputs": [],
   "source": [
    "for m in productname:\n",
    "    search = driver. find_element_by_xpath(\"//div[@class='_3OO5Xc']/input\")\n",
    "    search.clear()\n",
    "    search.send_keys(m)\n",
    "    search_btn = driver.find_element_by_xpath(\"//button[@class='L0Z3Pu']\")\n",
    "    search_btn.click()\n",
    "    for j in range(0,10):\n",
    "        time.sleep(2)\n",
    "        plink=driver.find_elements_by_xpath(\"//a[@class = '_2rpwqI']\")\n",
    "        for i in plink:\n",
    "            h=i.get_attribute('href')\n",
    "            prolink6.append(h)\n",
    "        try:\n",
    "            driver.find_element_by_xpath(\"//a[@class='_1LKTO3'][2]\").click()\n",
    "\n",
    "        except:\n",
    "\n",
    "            driver.find_element_by_xpath(\"//a[@class='_1LKTO3']\").click()"
   ]
  },
  {
   "cell_type": "code",
   "execution_count": 51,
   "metadata": {},
   "outputs": [
    {
     "data": {
      "text/plain": [
       "400"
      ]
     },
     "execution_count": 51,
     "metadata": {},
     "output_type": "execute_result"
    }
   ],
   "source": [
    "len(prolink6)"
   ]
  },
  {
   "cell_type": "code",
   "execution_count": 52,
   "metadata": {},
   "outputs": [],
   "source": [
    "temp = prolink6[::]"
   ]
  },
  {
   "cell_type": "code",
   "execution_count": 53,
   "metadata": {},
   "outputs": [
    {
     "name": "stderr",
     "output_type": "stream",
     "text": [
      "100%|██████████| 400/400 [24:56<00:00,  3.74s/it]  \n"
     ]
    }
   ],
   "source": [
    "for a in tqdm(temp[::-1]):    \n",
    "    driver.get(a)\n",
    "    try:\n",
    "        xt=driver.find_element_by_xpath(\"//div[@class= 'col JOpGWq']/a\")\n",
    "        if xt != None:\n",
    "            tt=xt.get_attribute(\"href\")\n",
    "            driver.get(tt)\n",
    "            \n",
    "            xt1=driver.find_elements_by_xpath(\"//div[@class='_3LWZlK _1BLPMq' or @class='_3LWZlK _32lA32 _1BLPMq' or @class='_3LWZlK _1rdVr6 _1BLPMq']\") \n",
    "            for i in xt1:\n",
    "                ratings=i.text\n",
    "                rating.append(ratings)\n",
    "                       \n",
    "            xt2=driver.find_elements_by_xpath(\"//div[@class= 't-ZTKy']\") \n",
    "            for i in xt2:\n",
    "                reviews=i.text.replace('\\n',' ')\n",
    "                review.append(reviews)\n",
    "            time.sleep(3)\n",
    "            \n",
    "    except(NoSuchElementException):\n",
    "        pass\n",
    "    temp.pop()"
   ]
  },
  {
   "cell_type": "code",
   "execution_count": 54,
   "metadata": {},
   "outputs": [
    {
     "data": {
      "text/plain": [
       "20399"
      ]
     },
     "execution_count": 54,
     "metadata": {},
     "output_type": "execute_result"
    }
   ],
   "source": [
    "len(review)"
   ]
  },
  {
   "cell_type": "code",
   "execution_count": 55,
   "metadata": {},
   "outputs": [],
   "source": [
    "productname=['monitor']\n",
    "prolink7=[]"
   ]
  },
  {
   "cell_type": "code",
   "execution_count": 56,
   "metadata": {},
   "outputs": [],
   "source": [
    "driver.get(\"https://www.flipkart.com/\")\n"
   ]
  },
  {
   "cell_type": "code",
   "execution_count": 57,
   "metadata": {},
   "outputs": [],
   "source": [
    "for m in productname:\n",
    "    search = driver. find_element_by_xpath(\"//div[@class='_3OO5Xc']/input\")\n",
    "    search.clear()\n",
    "    search.send_keys(m)\n",
    "    search_btn = driver.find_element_by_xpath(\"//button[@class='L0Z3Pu']\")\n",
    "    search_btn.click()\n",
    "    for j in range(0,10):\n",
    "        time.sleep(2)\n",
    "        plink=driver.find_elements_by_xpath(\"//a[@class = '_1fQZEK']\")\n",
    "        for i in plink:\n",
    "            h=i.get_attribute('href')\n",
    "            prolink7.append(h)\n",
    "            \n",
    "        try:\n",
    "            driver.find_element_by_xpath(\"//a[@class='_1LKTO3'][2]\").click()\n",
    "\n",
    "        except:\n",
    "\n",
    "            driver.find_element_by_xpath(\"//a[@class='_1LKTO3']\").click()"
   ]
  },
  {
   "cell_type": "code",
   "execution_count": 58,
   "metadata": {},
   "outputs": [
    {
     "data": {
      "text/plain": [
       "240"
      ]
     },
     "execution_count": 58,
     "metadata": {},
     "output_type": "execute_result"
    }
   ],
   "source": [
    "temp = prolink7[::]\n",
    "len(temp)"
   ]
  },
  {
   "cell_type": "code",
   "execution_count": 59,
   "metadata": {},
   "outputs": [
    {
     "name": "stderr",
     "output_type": "stream",
     "text": [
      "100%|██████████| 240/240 [16:14<00:00,  4.06s/it]\n"
     ]
    }
   ],
   "source": [
    "for a in tqdm(temp[::-1]):    \n",
    "    driver.get(a)\n",
    "    try:\n",
    "        xt=driver.find_element_by_xpath(\"//div[@class= 'col JOpGWq']/a\")\n",
    "        if xt != None:\n",
    "            tt=xt.get_attribute(\"href\")\n",
    "            driver.get(tt)\n",
    "            \n",
    "            xt1=driver.find_elements_by_xpath(\"//div[@class='_3LWZlK _1BLPMq' or @class='_3LWZlK _32lA32 _1BLPMq' or @class='_3LWZlK _1rdVr6 _1BLPMq']\") \n",
    "            for i in xt1:\n",
    "                ratings=i.text\n",
    "                rating.append(ratings)\n",
    "                       \n",
    "            xt2=driver.find_elements_by_xpath(\"//div[@class= 't-ZTKy']\") \n",
    "            for i in xt2:\n",
    "                reviews=i.text.replace('\\n',' ')\n",
    "                review.append(reviews)\n",
    "            time.sleep(3)\n",
    "            \n",
    "    except(NoSuchElementException):\n",
    "        pass\n",
    "    temp.pop()"
   ]
  },
  {
   "cell_type": "code",
   "execution_count": 60,
   "metadata": {},
   "outputs": [
    {
     "data": {
      "text/plain": [
       "21398"
      ]
     },
     "execution_count": 60,
     "metadata": {},
     "output_type": "execute_result"
    }
   ],
   "source": [
    "len(review)"
   ]
  },
  {
   "cell_type": "code",
   "execution_count": 61,
   "metadata": {},
   "outputs": [],
   "source": [
    "productname=['smart watches']\n",
    "prolink8=[]"
   ]
  },
  {
   "cell_type": "code",
   "execution_count": 62,
   "metadata": {},
   "outputs": [],
   "source": [
    "driver.get(\"https://www.flipkart.com/\")"
   ]
  },
  {
   "cell_type": "code",
   "execution_count": 63,
   "metadata": {},
   "outputs": [],
   "source": [
    "for m in productname:\n",
    "    search = driver. find_element_by_xpath(\"//div[@class='_3OO5Xc']/input\")\n",
    "    search.clear()\n",
    "    search.send_keys(m)\n",
    "    search_btn = driver.find_element_by_xpath(\"//button[@class='L0Z3Pu']\")\n",
    "    search_btn.click()\n",
    "    for j in range(0,20):\n",
    "        time.sleep(2)\n",
    "        plink=driver.find_elements_by_xpath(\"//a[@class = '_1fQZEK']\")\n",
    "        for i in plink:\n",
    "            h=i.get_attribute('href')\n",
    "            prolink8.append(h)\n",
    "            \n",
    "        try:\n",
    "            driver.find_element_by_xpath(\"//a[@class='_1LKTO3'][2]\").click()\n",
    "\n",
    "        except:\n",
    "\n",
    "            driver.find_element_by_xpath(\"//a[@class='_1LKTO3']\").click()"
   ]
  },
  {
   "cell_type": "code",
   "execution_count": 64,
   "metadata": {},
   "outputs": [
    {
     "data": {
      "text/plain": [
       "480"
      ]
     },
     "execution_count": 64,
     "metadata": {},
     "output_type": "execute_result"
    }
   ],
   "source": [
    "temp = prolink8[::]\n",
    "len(temp)"
   ]
  },
  {
   "cell_type": "code",
   "execution_count": 65,
   "metadata": {},
   "outputs": [
    {
     "name": "stderr",
     "output_type": "stream",
     "text": [
      "100%|██████████| 480/480 [31:32<00:00,  3.94s/it]\n"
     ]
    }
   ],
   "source": [
    "for a in tqdm(temp[::-1]):    \n",
    "    driver.get(a)\n",
    "    try:\n",
    "        xt=driver.find_element_by_xpath(\"//div[@class= 'col JOpGWq']/a\")\n",
    "        if xt != None:\n",
    "            tt=xt.get_attribute(\"href\")\n",
    "            driver.get(tt)\n",
    "            \n",
    "            xt1=driver.find_elements_by_xpath(\"//div[@class='_3LWZlK _1BLPMq' or @class='_3LWZlK _32lA32 _1BLPMq' or @class='_3LWZlK _1rdVr6 _1BLPMq']\") \n",
    "            for i in xt1:\n",
    "                ratings=i.text\n",
    "                rating.append(ratings)\n",
    "                       \n",
    "            xt2=driver.find_elements_by_xpath(\"//div[@class= 't-ZTKy']\") \n",
    "            for i in xt2:\n",
    "                reviews=i.text.replace('\\n',' ')\n",
    "                review.append(reviews)\n",
    "            time.sleep(3)\n",
    "            \n",
    "    except(NoSuchElementException):\n",
    "        pass\n",
    "    temp.pop()"
   ]
  },
  {
   "cell_type": "code",
   "execution_count": 66,
   "metadata": {},
   "outputs": [
    {
     "data": {
      "text/plain": [
       "23514"
      ]
     },
     "execution_count": 66,
     "metadata": {},
     "output_type": "execute_result"
    }
   ],
   "source": [
    "len(review)"
   ]
  },
  {
   "cell_type": "code",
   "execution_count": 68,
   "metadata": {},
   "outputs": [],
   "source": [
    "\n",
    "productname=['home theater']\n",
    "prolink9=[]"
   ]
  },
  {
   "cell_type": "code",
   "execution_count": 69,
   "metadata": {},
   "outputs": [],
   "source": [
    "driver.get(\"https://www.flipkart.com/\")"
   ]
  },
  {
   "cell_type": "code",
   "execution_count": 70,
   "metadata": {},
   "outputs": [],
   "source": [
    "for m in productname:\n",
    "    search = driver. find_element_by_xpath(\"//div[@class='_3OO5Xc']/input\")\n",
    "    search.clear()\n",
    "    search.send_keys(m)\n",
    "    search_btn = driver.find_element_by_xpath(\"//button[@class='L0Z3Pu']\")\n",
    "    search_btn.click()\n",
    "    for j in range(0,20):\n",
    "        time.sleep(2)\n",
    "        plink=driver.find_elements_by_xpath(\"//a[@class = '_2rpwqI']\")\n",
    "        for i in plink:\n",
    "            h=i.get_attribute('href')\n",
    "            prolink9.append(h)\n",
    "        try:\n",
    "            driver.find_element_by_xpath(\"//a[@class='_1LKTO3'][2]\").click()\n",
    "\n",
    "        except:\n",
    "\n",
    "            driver.find_element_by_xpath(\"//a[@class='_1LKTO3']\").click()"
   ]
  },
  {
   "cell_type": "code",
   "execution_count": 71,
   "metadata": {},
   "outputs": [
    {
     "data": {
      "text/plain": [
       "800"
      ]
     },
     "execution_count": 71,
     "metadata": {},
     "output_type": "execute_result"
    }
   ],
   "source": [
    "temp = prolink9[::]\n",
    "len(temp)"
   ]
  },
  {
   "cell_type": "code",
   "execution_count": 72,
   "metadata": {},
   "outputs": [
    {
     "name": "stderr",
     "output_type": "stream",
     "text": [
      "100%|██████████| 800/800 [34:43<00:00,  2.60s/it]\n"
     ]
    }
   ],
   "source": [
    "for a in tqdm(temp[::-1]):    \n",
    "    driver.get(a)\n",
    "    try:\n",
    "        xt=driver.find_element_by_xpath(\"//div[@class= 'col JOpGWq']/a\")\n",
    "        if xt != None:\n",
    "            tt=xt.get_attribute(\"href\")\n",
    "            driver.get(tt)\n",
    "            \n",
    "            xt1=driver.find_elements_by_xpath(\"//div[@class='_3LWZlK _1BLPMq' or @class='_3LWZlK _32lA32 _1BLPMq' or @class='_3LWZlK _1rdVr6 _1BLPMq']\") \n",
    "            for i in xt1:\n",
    "                ratings=i.text\n",
    "                rating.append(ratings)\n",
    "                       \n",
    "            xt2=driver.find_elements_by_xpath(\"//div[@class= 't-ZTKy']\") \n",
    "            for i in xt2:\n",
    "                reviews=i.text.replace('\\n',' ')\n",
    "                review.append(reviews)\n",
    "            time.sleep(3)\n",
    "            \n",
    "    except(NoSuchElementException):\n",
    "        pass\n",
    "    temp.pop()"
   ]
  },
  {
   "cell_type": "code",
   "execution_count": null,
   "metadata": {},
   "outputs": [],
   "source": []
  },
  {
   "cell_type": "code",
   "execution_count": 73,
   "metadata": {},
   "outputs": [
    {
     "data": {
      "text/plain": [
       "26224"
      ]
     },
     "execution_count": 73,
     "metadata": {},
     "output_type": "execute_result"
    }
   ],
   "source": [
    "len(review)"
   ]
  },
  {
   "cell_type": "code",
   "execution_count": 74,
   "metadata": {},
   "outputs": [
    {
     "data": {
      "text/plain": [
       "26224"
      ]
     },
     "execution_count": 74,
     "metadata": {},
     "output_type": "execute_result"
    }
   ],
   "source": [
    "len(review)"
   ]
  },
  {
   "cell_type": "code",
   "execution_count": 75,
   "metadata": {},
   "outputs": [],
   "source": [
    "#creating dataframe \n",
    "df_flipkart=pd.DataFrame({'reviews':review,\n",
    "                         'ratings':rating})"
   ]
  },
  {
   "cell_type": "code",
   "execution_count": 76,
   "metadata": {},
   "outputs": [
    {
     "data": {
      "text/html": [
       "<div>\n",
       "<style scoped>\n",
       "    .dataframe tbody tr th:only-of-type {\n",
       "        vertical-align: middle;\n",
       "    }\n",
       "\n",
       "    .dataframe tbody tr th {\n",
       "        vertical-align: top;\n",
       "    }\n",
       "\n",
       "    .dataframe thead th {\n",
       "        text-align: right;\n",
       "    }\n",
       "</style>\n",
       "<table border=\"1\" class=\"dataframe\">\n",
       "  <thead>\n",
       "    <tr style=\"text-align: right;\">\n",
       "      <th></th>\n",
       "      <th>reviews</th>\n",
       "      <th>ratings</th>\n",
       "    </tr>\n",
       "  </thead>\n",
       "  <tbody>\n",
       "    <tr>\n",
       "      <th>0</th>\n",
       "      <td>First of all thanks for the super fast deliver...</td>\n",
       "      <td>5</td>\n",
       "    </tr>\n",
       "    <tr>\n",
       "      <th>1</th>\n",
       "      <td>I was really happy with the way flipkart did t...</td>\n",
       "      <td>5</td>\n",
       "    </tr>\n",
       "    <tr>\n",
       "      <th>2</th>\n",
       "      <td>Great great laptop! Totally love it. Stylus, s...</td>\n",
       "      <td>5</td>\n",
       "    </tr>\n",
       "    <tr>\n",
       "      <th>3</th>\n",
       "      <td>It gives a best performance And👌👌👌👌👍👍👍👍</td>\n",
       "      <td>5</td>\n",
       "    </tr>\n",
       "    <tr>\n",
       "      <th>4</th>\n",
       "      <td>This laptop is very good at this price range.p...</td>\n",
       "      <td>5</td>\n",
       "    </tr>\n",
       "    <tr>\n",
       "      <th>...</th>\n",
       "      <td>...</td>\n",
       "      <td>...</td>\n",
       "    </tr>\n",
       "    <tr>\n",
       "      <th>26219</th>\n",
       "      <td>Brilliant excellent performance thank you Flip...</td>\n",
       "      <td>5</td>\n",
       "    </tr>\n",
       "    <tr>\n",
       "      <th>26220</th>\n",
       "      <td>An average product which gives a decent output...</td>\n",
       "      <td>3</td>\n",
       "    </tr>\n",
       "    <tr>\n",
       "      <th>26221</th>\n",
       "      <td>Good product valuable for money I like it, if ...</td>\n",
       "      <td>3</td>\n",
       "    </tr>\n",
       "    <tr>\n",
       "      <th>26222</th>\n",
       "      <td>Best buy in low budget. Sound quality is not t...</td>\n",
       "      <td>4</td>\n",
       "    </tr>\n",
       "    <tr>\n",
       "      <th>26223</th>\n",
       "      <td>Nice product. Nice sound. The advantage is it ...</td>\n",
       "      <td>5</td>\n",
       "    </tr>\n",
       "  </tbody>\n",
       "</table>\n",
       "<p>26224 rows × 2 columns</p>\n",
       "</div>"
      ],
      "text/plain": [
       "                                                 reviews ratings\n",
       "0      First of all thanks for the super fast deliver...       5\n",
       "1      I was really happy with the way flipkart did t...       5\n",
       "2      Great great laptop! Totally love it. Stylus, s...       5\n",
       "3                It gives a best performance And👌👌👌👌👍👍👍👍       5\n",
       "4      This laptop is very good at this price range.p...       5\n",
       "...                                                  ...     ...\n",
       "26219  Brilliant excellent performance thank you Flip...       5\n",
       "26220  An average product which gives a decent output...       3\n",
       "26221  Good product valuable for money I like it, if ...       3\n",
       "26222  Best buy in low budget. Sound quality is not t...       4\n",
       "26223  Nice product. Nice sound. The advantage is it ...       5\n",
       "\n",
       "[26224 rows x 2 columns]"
      ]
     },
     "execution_count": 76,
     "metadata": {},
     "output_type": "execute_result"
    }
   ],
   "source": [
    "df_flipkart"
   ]
  },
  {
   "cell_type": "code",
   "execution_count": 78,
   "metadata": {},
   "outputs": [],
   "source": [
    "#saving as csv file\n",
    "df_flipkart.to_csv('df_flipkart_12.csv')"
   ]
  },
  {
   "cell_type": "code",
   "execution_count": 79,
   "metadata": {},
   "outputs": [],
   "source": [
    "d=pd.read_csv('df_flipkart_12.csv')"
   ]
  },
  {
   "cell_type": "code",
   "execution_count": 80,
   "metadata": {},
   "outputs": [
    {
     "data": {
      "text/html": [
       "<div>\n",
       "<style scoped>\n",
       "    .dataframe tbody tr th:only-of-type {\n",
       "        vertical-align: middle;\n",
       "    }\n",
       "\n",
       "    .dataframe tbody tr th {\n",
       "        vertical-align: top;\n",
       "    }\n",
       "\n",
       "    .dataframe thead th {\n",
       "        text-align: right;\n",
       "    }\n",
       "</style>\n",
       "<table border=\"1\" class=\"dataframe\">\n",
       "  <thead>\n",
       "    <tr style=\"text-align: right;\">\n",
       "      <th></th>\n",
       "      <th>Unnamed: 0</th>\n",
       "      <th>reviews</th>\n",
       "      <th>ratings</th>\n",
       "    </tr>\n",
       "  </thead>\n",
       "  <tbody>\n",
       "    <tr>\n",
       "      <th>0</th>\n",
       "      <td>0</td>\n",
       "      <td>First of all thanks for the super fast deliver...</td>\n",
       "      <td>5</td>\n",
       "    </tr>\n",
       "    <tr>\n",
       "      <th>1</th>\n",
       "      <td>1</td>\n",
       "      <td>I was really happy with the way flipkart did t...</td>\n",
       "      <td>5</td>\n",
       "    </tr>\n",
       "    <tr>\n",
       "      <th>2</th>\n",
       "      <td>2</td>\n",
       "      <td>Great great laptop! Totally love it. Stylus, s...</td>\n",
       "      <td>5</td>\n",
       "    </tr>\n",
       "    <tr>\n",
       "      <th>3</th>\n",
       "      <td>3</td>\n",
       "      <td>It gives a best performance And👌👌👌👌👍👍👍👍</td>\n",
       "      <td>5</td>\n",
       "    </tr>\n",
       "    <tr>\n",
       "      <th>4</th>\n",
       "      <td>4</td>\n",
       "      <td>This laptop is very good at this price range.p...</td>\n",
       "      <td>5</td>\n",
       "    </tr>\n",
       "    <tr>\n",
       "      <th>...</th>\n",
       "      <td>...</td>\n",
       "      <td>...</td>\n",
       "      <td>...</td>\n",
       "    </tr>\n",
       "    <tr>\n",
       "      <th>26219</th>\n",
       "      <td>26219</td>\n",
       "      <td>Brilliant excellent performance thank you Flip...</td>\n",
       "      <td>5</td>\n",
       "    </tr>\n",
       "    <tr>\n",
       "      <th>26220</th>\n",
       "      <td>26220</td>\n",
       "      <td>An average product which gives a decent output...</td>\n",
       "      <td>3</td>\n",
       "    </tr>\n",
       "    <tr>\n",
       "      <th>26221</th>\n",
       "      <td>26221</td>\n",
       "      <td>Good product valuable for money I like it, if ...</td>\n",
       "      <td>3</td>\n",
       "    </tr>\n",
       "    <tr>\n",
       "      <th>26222</th>\n",
       "      <td>26222</td>\n",
       "      <td>Best buy in low budget. Sound quality is not t...</td>\n",
       "      <td>4</td>\n",
       "    </tr>\n",
       "    <tr>\n",
       "      <th>26223</th>\n",
       "      <td>26223</td>\n",
       "      <td>Nice product. Nice sound. The advantage is it ...</td>\n",
       "      <td>5</td>\n",
       "    </tr>\n",
       "  </tbody>\n",
       "</table>\n",
       "<p>26224 rows × 3 columns</p>\n",
       "</div>"
      ],
      "text/plain": [
       "       Unnamed: 0                                            reviews  ratings\n",
       "0               0  First of all thanks for the super fast deliver...        5\n",
       "1               1  I was really happy with the way flipkart did t...        5\n",
       "2               2  Great great laptop! Totally love it. Stylus, s...        5\n",
       "3               3            It gives a best performance And👌👌👌👌👍👍👍👍        5\n",
       "4               4  This laptop is very good at this price range.p...        5\n",
       "...           ...                                                ...      ...\n",
       "26219       26219  Brilliant excellent performance thank you Flip...        5\n",
       "26220       26220  An average product which gives a decent output...        3\n",
       "26221       26221  Good product valuable for money I like it, if ...        3\n",
       "26222       26222  Best buy in low budget. Sound quality is not t...        4\n",
       "26223       26223  Nice product. Nice sound. The advantage is it ...        5\n",
       "\n",
       "[26224 rows x 3 columns]"
      ]
     },
     "execution_count": 80,
     "metadata": {},
     "output_type": "execute_result"
    }
   ],
   "source": [
    "d"
   ]
  },
  {
   "cell_type": "code",
   "execution_count": null,
   "metadata": {},
   "outputs": [],
   "source": []
  }
 ],
 "metadata": {
  "kernelspec": {
   "display_name": "Python 3",
   "language": "python",
   "name": "python3"
  },
  "language_info": {
   "codemirror_mode": {
    "name": "ipython",
    "version": 3
   },
   "file_extension": ".py",
   "mimetype": "text/x-python",
   "name": "python",
   "nbconvert_exporter": "python",
   "pygments_lexer": "ipython3",
   "version": "3.8.5"
  }
 },
 "nbformat": 4,
 "nbformat_minor": 4
}
