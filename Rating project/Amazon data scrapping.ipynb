{
 "cells": [
  {
   "cell_type": "code",
   "execution_count": 2,
   "metadata": {},
   "outputs": [],
   "source": [
    "#import all the required libraries\n",
    "import pandas as pd\n",
    "from bs4 import BeautifulSoup\n",
    "import requests\n",
    "import selenium\n",
    "from selenium import webdriver\n",
    "from selenium.webdriver.chrome.options import Options\n",
    "from selenium.webdriver.common.by import By\n",
    "from selenium.webdriver.support.ui import WebDriverWait\n",
    "from selenium.webdriver.support import expected_conditions as EC\n",
    "from selenium.common.exceptions import StaleElementReferenceException, NoSuchElementException ,TimeoutException"
   ]
  },
  {
   "cell_type": "code",
   "execution_count": 4,
   "metadata": {},
   "outputs": [],
   "source": [
    "driver= webdriver.Chrome(\"C:/Users/DELL/chromedriver.exe\")\n",
    "\n",
    "driver.get(\"https://www.amazon.com/\")"
   ]
  },
  {
   "cell_type": "code",
   "execution_count": 5,
   "metadata": {},
   "outputs": [],
   "source": [
    "productname=['laptops','Phones','Headphones','smart watches', 'Professional Cameras',\n",
    "             'Printers','monitors','Home theater','router']\n",
    "prolink=[]\n",
    "links=[]\n",
    "review=[]\n",
    "rating=[]"
   ]
  },
  {
   "cell_type": "code",
   "execution_count": 6,
   "metadata": {},
   "outputs": [],
   "source": [
    "for m in productname:\n",
    "    search = driver. find_element_by_xpath(\"//input[@id = 'twotabsearchtextbox']\")\n",
    "    search.clear()\n",
    "    search.send_keys(m)\n",
    "    search_btn = driver.find_element_by_xpath(\"//div[@class = 'nav-search-submit nav-sprite']/span/input\")\n",
    "    search_btn.click()\n",
    "    for j in range(0,19):\n",
    "        hlink=driver.find_elements_by_xpath(\"//h2[@class='a-size-mini a-spacing-none a-color-base s-line-clamp-2']/a\")\n",
    "        for i in hlink:\n",
    "            h=i.get_attribute('href')\n",
    "            prolink.append(h)\n",
    "        nxt=driver.find_element_by_xpath(\"//li[@class='a-last']//a\")\n",
    "        nt=nxt.get_attribute(\"href\")\n",
    "        driver.get(nt)"
   ]
  },
  {
   "cell_type": "code",
   "execution_count": 7,
   "metadata": {},
   "outputs": [
    {
     "data": {
      "text/plain": [
       "3756"
      ]
     },
     "execution_count": 7,
     "metadata": {},
     "output_type": "execute_result"
    }
   ],
   "source": [
    "len(prolink)"
   ]
  },
  {
   "cell_type": "code",
   "execution_count": 8,
   "metadata": {},
   "outputs": [],
   "source": [
    "for a in prolink:    \n",
    "    driver.get(a)\n",
    "    try:\n",
    "        xt=driver.find_element_by_xpath(\"//div[@class= 'a-row a-spacing-medium']/a\")\n",
    "        if xt != None:\n",
    "            tt=xt.get_attribute(\"href\")\n",
    "            driver.get(tt)\n",
    "            xt1=driver.find_elements_by_xpath(\"//div//a[@class= 'a-size-base a-link-normal review-title a-color-base review-title-content a-text-bold']\")       \n",
    "            if xt1 != None:\n",
    "                for i in xt1:\n",
    "                    h=i.get_attribute('href')\n",
    "                    links.append(h)  \n",
    "    except(NoSuchElementException):\n",
    "        pass"
   ]
  },
  {
   "cell_type": "code",
   "execution_count": 9,
   "metadata": {},
   "outputs": [
    {
     "data": {
      "text/plain": [
       "26988"
      ]
     },
     "execution_count": 9,
     "metadata": {},
     "output_type": "execute_result"
    }
   ],
   "source": [
    "len(links)"
   ]
  },
  {
   "cell_type": "code",
   "execution_count": 10,
   "metadata": {},
   "outputs": [],
   "source": [
    "temp = links[::]"
   ]
  },
  {
   "cell_type": "code",
   "execution_count": 11,
   "metadata": {},
   "outputs": [
    {
     "data": {
      "text/plain": [
       "26988"
      ]
     },
     "execution_count": 11,
     "metadata": {},
     "output_type": "execute_result"
    }
   ],
   "source": [
    "len(temp)"
   ]
  },
  {
   "cell_type": "code",
   "execution_count": 12,
   "metadata": {},
   "outputs": [
    {
     "name": "stderr",
     "output_type": "stream",
     "text": [
      "100%|██████████| 26988/26988 [9:53:28<00:00,  1.32s/it]   \n"
     ]
    }
   ],
   "source": [
    "from tqdm import tqdm\n",
    "for a in tqdm(temp[::-1]):    \n",
    "    driver.get(a)\n",
    "    try:\n",
    "        xt=driver.find_element_by_xpath(\"//a[@class='a-link-normal']\")\n",
    "        rating.append(xt.get_attribute('title'))\n",
    "    except NoSuchElementException:\n",
    "        rating.append(\"Null\")\n",
    "        \n",
    "    try:    \n",
    "        xt1=driver.find_element_by_xpath(\"//div//span[@class= 'a-size-base review-text review-text-content']/span\")\n",
    "        review.append(xt1.text)\n",
    "    except NoSuchElementException:\n",
    "        review.append(\"Null\")\n",
    "    temp.pop()"
   ]
  },
  {
   "cell_type": "code",
   "execution_count": 13,
   "metadata": {},
   "outputs": [
    {
     "data": {
      "text/plain": [
       "(26988, 26988)"
      ]
     },
     "execution_count": 13,
     "metadata": {},
     "output_type": "execute_result"
    }
   ],
   "source": [
    "len(rating),len(review)"
   ]
  },
  {
   "cell_type": "code",
   "execution_count": 25,
   "metadata": {},
   "outputs": [],
   "source": [
    "#creating dataframe \n",
    "df_amazon=pd.DataFrame({'reviews':review,\n",
    "                         'ratings':rating})"
   ]
  },
  {
   "cell_type": "code",
   "execution_count": 26,
   "metadata": {},
   "outputs": [
    {
     "data": {
      "text/html": [
       "<div>\n",
       "<style scoped>\n",
       "    .dataframe tbody tr th:only-of-type {\n",
       "        vertical-align: middle;\n",
       "    }\n",
       "\n",
       "    .dataframe tbody tr th {\n",
       "        vertical-align: top;\n",
       "    }\n",
       "\n",
       "    .dataframe thead th {\n",
       "        text-align: right;\n",
       "    }\n",
       "</style>\n",
       "<table border=\"1\" class=\"dataframe\">\n",
       "  <thead>\n",
       "    <tr style=\"text-align: right;\">\n",
       "      <th></th>\n",
       "      <th>reviews</th>\n",
       "      <th>ratings</th>\n",
       "    </tr>\n",
       "  </thead>\n",
       "  <tbody>\n",
       "    <tr>\n",
       "      <th>0</th>\n",
       "      <td>Disclaimer: I am an I.T. network person at a l...</td>\n",
       "      <td>5.0 out of 5 stars</td>\n",
       "    </tr>\n",
       "    <tr>\n",
       "      <th>1</th>\n",
       "      <td>I bought the NETGEAR AX6600 to upgrade my old ...</td>\n",
       "      <td>1.0 out of 5 stars</td>\n",
       "    </tr>\n",
       "    <tr>\n",
       "      <th>2</th>\n",
       "      <td>I bought this to upgrade my older nighthawk r8...</td>\n",
       "      <td>1.0 out of 5 stars</td>\n",
       "    </tr>\n",
       "    <tr>\n",
       "      <th>3</th>\n",
       "      <td>This router replaced a great R7800 router whic...</td>\n",
       "      <td>5.0 out of 5 stars</td>\n",
       "    </tr>\n",
       "    <tr>\n",
       "      <th>4</th>\n",
       "      <td>Router #1 I received from the pre-order had a ...</td>\n",
       "      <td>1.0 out of 5 stars</td>\n",
       "    </tr>\n",
       "    <tr>\n",
       "      <th>...</th>\n",
       "      <td>...</td>\n",
       "      <td>...</td>\n",
       "    </tr>\n",
       "    <tr>\n",
       "      <th>26983</th>\n",
       "      <td>Working great so far</td>\n",
       "      <td>5.0 out of 5 stars</td>\n",
       "    </tr>\n",
       "    <tr>\n",
       "      <th>26984</th>\n",
       "      <td>The camera was very bad,I had to return it</td>\n",
       "      <td>1.0 out of 5 stars</td>\n",
       "    </tr>\n",
       "    <tr>\n",
       "      <th>26985</th>\n",
       "      <td>It works really well for my games.</td>\n",
       "      <td>5.0 out of 5 stars</td>\n",
       "    </tr>\n",
       "    <tr>\n",
       "      <th>26986</th>\n",
       "      <td>Its a great laptop for the price, works well, ...</td>\n",
       "      <td>5.0 out of 5 stars</td>\n",
       "    </tr>\n",
       "    <tr>\n",
       "      <th>26987</th>\n",
       "      <td>Love this Lenovo laptop. I like the size of th...</td>\n",
       "      <td>5.0 out of 5 stars</td>\n",
       "    </tr>\n",
       "  </tbody>\n",
       "</table>\n",
       "<p>26988 rows × 2 columns</p>\n",
       "</div>"
      ],
      "text/plain": [
       "                                                 reviews             ratings\n",
       "0      Disclaimer: I am an I.T. network person at a l...  5.0 out of 5 stars\n",
       "1      I bought the NETGEAR AX6600 to upgrade my old ...  1.0 out of 5 stars\n",
       "2      I bought this to upgrade my older nighthawk r8...  1.0 out of 5 stars\n",
       "3      This router replaced a great R7800 router whic...  5.0 out of 5 stars\n",
       "4      Router #1 I received from the pre-order had a ...  1.0 out of 5 stars\n",
       "...                                                  ...                 ...\n",
       "26983                               Working great so far  5.0 out of 5 stars\n",
       "26984         The camera was very bad,I had to return it  1.0 out of 5 stars\n",
       "26985                 It works really well for my games.  5.0 out of 5 stars\n",
       "26986  Its a great laptop for the price, works well, ...  5.0 out of 5 stars\n",
       "26987  Love this Lenovo laptop. I like the size of th...  5.0 out of 5 stars\n",
       "\n",
       "[26988 rows x 2 columns]"
      ]
     },
     "execution_count": 26,
     "metadata": {},
     "output_type": "execute_result"
    }
   ],
   "source": [
    "df_amazon"
   ]
  },
  {
   "cell_type": "code",
   "execution_count": 28,
   "metadata": {},
   "outputs": [],
   "source": [
    "df_amazon['ratings']=df_amazon['ratings'].apply(lambda x: str(x).split('.')[0])"
   ]
  },
  {
   "cell_type": "code",
   "execution_count": null,
   "metadata": {},
   "outputs": [],
   "source": []
  },
  {
   "cell_type": "code",
   "execution_count": 29,
   "metadata": {},
   "outputs": [],
   "source": [
    "#saving as a csv file\n",
    "df_amazon.to_csv('amazon_rating.csv')"
   ]
  },
  {
   "cell_type": "code",
   "execution_count": null,
   "metadata": {},
   "outputs": [],
   "source": []
  }
 ],
 "metadata": {
  "kernelspec": {
   "display_name": "Python 3",
   "language": "python",
   "name": "python3"
  },
  "language_info": {
   "codemirror_mode": {
    "name": "ipython",
    "version": 3
   },
   "file_extension": ".py",
   "mimetype": "text/x-python",
   "name": "python",
   "nbconvert_exporter": "python",
   "pygments_lexer": "ipython3",
   "version": "3.8.5"
  }
 },
 "nbformat": 4,
 "nbformat_minor": 4
}
