{
 "cells": [
  {
   "cell_type": "code",
   "execution_count": 1,
   "metadata": {},
   "outputs": [],
   "source": [
    "import pandas as pd\n",
    "import numpy as np"
   ]
  },
  {
   "cell_type": "code",
   "execution_count": 15,
   "metadata": {},
   "outputs": [],
   "source": [
    "#import all the required libraries\n",
    "import pandas as pd\n",
    "from bs4 import BeautifulSoup\n",
    "import time\n",
    "import requests\n",
    "import selenium\n",
    "from selenium import webdriver\n",
    "from selenium.webdriver.chrome.options import Options\n",
    "from selenium.webdriver.common.by import By\n",
    "from selenium.webdriver.support.ui import WebDriverWait\n",
    "from selenium.webdriver.support import expected_conditions as EC\n",
    "from selenium.common.exceptions import StaleElementReferenceException, NoSuchElementException ,TimeoutException"
   ]
  },
  {
   "cell_type": "code",
   "execution_count": 16,
   "metadata": {},
   "outputs": [],
   "source": [
    "from tqdm import tqdm"
   ]
  },
  {
   "cell_type": "code",
   "execution_count": 17,
   "metadata": {},
   "outputs": [],
   "source": [
    "driver=webdriver.Chrome(\"chromedriver.exe\")\n",
    "driver.get(\"https://www.flipkart.com/\")"
   ]
  },
  {
   "cell_type": "code",
   "execution_count": 18,
   "metadata": {},
   "outputs": [],
   "source": [
    "#Closing the Pop-up button appearing on the page\n",
    "close_button=driver.find_element_by_xpath(\"//button[@class='_2KpZ6l _2doB4z']\")\n",
    "close_button.click()"
   ]
  },
  {
   "cell_type": "code",
   "execution_count": 84,
   "metadata": {},
   "outputs": [],
   "source": [
    "driver.get(\"https://www.flipkart.com/\")"
   ]
  },
  {
   "cell_type": "code",
   "execution_count": 19,
   "metadata": {},
   "outputs": [],
   "source": [
    "rating=[]\n",
    "review=[]"
   ]
  },
  {
   "cell_type": "code",
   "execution_count": 85,
   "metadata": {},
   "outputs": [],
   "source": [
    "productname=['laptops']\n",
    "prolink1=[]\n"
   ]
  },
  {
   "cell_type": "code",
   "execution_count": 86,
   "metadata": {},
   "outputs": [],
   "source": [
    "for m in productname:\n",
    "    search = driver. find_element_by_xpath(\"//div[@class='_3OO5Xc']/input\")\n",
    "    search.clear()\n",
    "    search.send_keys(m)\n",
    "    search_btn = driver.find_element_by_xpath(\"//button[@class='L0Z3Pu']\")\n",
    "    search_btn.click()\n",
    "    for j in range(0,50):\n",
    "        time.sleep(2)\n",
    "        plink=driver.find_elements_by_xpath(\"//a[@class = '_1fQZEK']\")\n",
    "        for i in plink:\n",
    "            h=i.get_attribute('href')\n",
    "            prolink1.append(h)\n",
    "        try:\n",
    "            driver.find_element_by_xpath(\"//a[@class='_1LKTO3'][2]\").click()\n",
    "\n",
    "        except:\n",
    "\n",
    "            driver.find_element_by_xpath(\"//a[@class='_1LKTO3']\").click()"
   ]
  },
  {
   "cell_type": "code",
   "execution_count": 87,
   "metadata": {},
   "outputs": [
    {
     "data": {
      "text/plain": [
       "1080"
      ]
     },
     "execution_count": 87,
     "metadata": {},
     "output_type": "execute_result"
    }
   ],
   "source": [
    "temp = prolink1[::]\n",
    "len(temp)"
   ]
  },
  {
   "cell_type": "code",
   "execution_count": 88,
   "metadata": {},
   "outputs": [
    {
     "name": "stderr",
     "output_type": "stream",
     "text": [
      "100%|██████████| 1080/1080 [1:19:15<00:00,  4.40s/it]\n"
     ]
    }
   ],
   "source": [
    "for a in tqdm(temp[::-1]):    \n",
    "    driver.get(a)\n",
    "    try:\n",
    "        xt=driver.find_element_by_xpath(\"//div[@class= 'col JOpGWq']/a\")\n",
    "        if xt != None:\n",
    "            tt=xt.get_attribute(\"href\")\n",
    "            driver.get(tt)\n",
    "            \n",
    "            xt1=driver.find_elements_by_xpath(\"//div[@class='_3LWZlK _1BLPMq' or @class='_3LWZlK _32lA32 _1BLPMq' or @class='_3LWZlK _1rdVr6 _1BLPMq']\") \n",
    "            for i in xt1:\n",
    "                ratings=i.text\n",
    "                rating.append(ratings)\n",
    "                       \n",
    "            xt2=driver.find_elements_by_xpath(\"//div[@class= 't-ZTKy']\") \n",
    "            for i in xt2:\n",
    "                reviews=i.text.replace('\\n',' ')\n",
    "                review.append(reviews)\n",
    "            time.sleep(3)\n",
    "            \n",
    "    except(NoSuchElementException):\n",
    "        pass\n",
    "    temp.pop()"
   ]
  },
  {
   "cell_type": "code",
   "execution_count": 94,
   "metadata": {},
   "outputs": [],
   "source": [
    "productname=['phone']\n",
    "prolink2=[]"
   ]
  },
  {
   "cell_type": "code",
   "execution_count": 95,
   "metadata": {},
   "outputs": [],
   "source": [
    "driver.get(\"https://www.flipkart.com/\")"
   ]
  },
  {
   "cell_type": "code",
   "execution_count": 98,
   "metadata": {},
   "outputs": [],
   "source": [
    "for m in productname:\n",
    "    search = driver. find_element_by_xpath(\"//div[@class='_3OO5Xc']/input\")\n",
    "    search.clear()\n",
    "    search.send_keys(m)\n",
    "    search_btn = driver.find_element_by_xpath(\"//button[@class='L0Z3Pu']\")\n",
    "    search_btn.click()\n",
    "    for j in range(0,60):\n",
    "        time.sleep(2)\n",
    "        plink=driver.find_elements_by_xpath(\"//a[@class = '_2rpwqI']\")\n",
    "        for i in plink:\n",
    "            h=i.get_attribute('href')\n",
    "            prolink2.append(h)\n",
    "        try:\n",
    "            driver.find_element_by_xpath(\"//a[@class='_1LKTO3'][2]\").click()\n",
    "\n",
    "        except:\n",
    "\n",
    "            driver.find_element_by_xpath(\"//a[@class='_1LKTO3']\").click()"
   ]
  },
  {
   "cell_type": "code",
   "execution_count": 99,
   "metadata": {},
   "outputs": [],
   "source": [
    "temp = prolink2[::]"
   ]
  },
  {
   "cell_type": "code",
   "execution_count": 100,
   "metadata": {},
   "outputs": [
    {
     "name": "stderr",
     "output_type": "stream",
     "text": [
      "100%|██████████| 2921/2921 [5:55:33<00:00,  7.30s/it]  \n"
     ]
    }
   ],
   "source": [
    "for a in tqdm(temp[::-1]):    \n",
    "    driver.get(a)\n",
    "    try:\n",
    "        xt=driver.find_element_by_xpath(\"//div[@class= 'col JOpGWq']/a\")\n",
    "        if xt != None:\n",
    "            tt=xt.get_attribute(\"href\")\n",
    "            driver.get(tt)\n",
    "            \n",
    "            xt1=driver.find_elements_by_xpath(\"//div[@class='_3LWZlK _1BLPMq' or @class='_3LWZlK _32lA32 _1BLPMq' or @class='_3LWZlK _1rdVr6 _1BLPMq']\") \n",
    "            for i in xt1:\n",
    "                ratings=i.text\n",
    "                rating.append(ratings)\n",
    "                       \n",
    "            xt2=driver.find_elements_by_xpath(\"//div[@class= 't-ZTKy']\") \n",
    "            for i in xt2:\n",
    "                reviews=i.text.replace('\\n',' ')\n",
    "                review.append(reviews)\n",
    "            time.sleep(3)\n",
    "            \n",
    "    except(NoSuchElementException):\n",
    "        pass\n",
    "    temp.pop()"
   ]
  },
  {
   "cell_type": "code",
   "execution_count": 36,
   "metadata": {},
   "outputs": [],
   "source": [
    "productname=['headphones']\n",
    "prolink3=[]"
   ]
  },
  {
   "cell_type": "code",
   "execution_count": 37,
   "metadata": {},
   "outputs": [],
   "source": [
    "driver.get(\"https://www.flipkart.com/\")"
   ]
  },
  {
   "cell_type": "code",
   "execution_count": 38,
   "metadata": {},
   "outputs": [],
   "source": [
    "for m in productname:\n",
    "    search = driver. find_element_by_xpath(\"//div[@class='_3OO5Xc']/input\")\n",
    "    search.clear()\n",
    "    search.send_keys(m)\n",
    "    search_btn = driver.find_element_by_xpath(\"//button[@class='L0Z3Pu']\")\n",
    "    search_btn.click()\n",
    "    for j in range(0,40):\n",
    "        time.sleep(2)\n",
    "        plink=driver.find_elements_by_xpath(\"//a[@class = '_2rpwqI']\")\n",
    "        for i in plink:\n",
    "            h=i.get_attribute('href')\n",
    "            prolink3.append(h)\n",
    "        try:\n",
    "            driver.find_element_by_xpath(\"//a[@class='_1LKTO3'][2]\").click()\n",
    "\n",
    "        except:\n",
    "\n",
    "            driver.find_element_by_xpath(\"//a[@class='_1LKTO3']\").click()"
   ]
  },
  {
   "cell_type": "code",
   "execution_count": 77,
   "metadata": {},
   "outputs": [
    {
     "data": {
      "text/plain": [
       "1600"
      ]
     },
     "execution_count": 77,
     "metadata": {},
     "output_type": "execute_result"
    }
   ],
   "source": [
    "temp = prolink3[::]\n",
    "len(temp)"
   ]
  },
  {
   "cell_type": "code",
   "execution_count": 78,
   "metadata": {},
   "outputs": [
    {
     "name": "stderr",
     "output_type": "stream",
     "text": [
      "100%|██████████| 1600/1600 [2:37:14<00:00,  5.90s/it]  \n"
     ]
    }
   ],
   "source": [
    "for a in tqdm(temp[::-1]):    \n",
    "    driver.get(a)\n",
    "    try:\n",
    "        xt=driver.find_element_by_xpath(\"//div[@class= 'col JOpGWq']/a\")\n",
    "        if xt != None:\n",
    "            tt=xt.get_attribute(\"href\")\n",
    "            driver.get(tt)\n",
    "            \n",
    "            xt1=driver.find_elements_by_xpath(\"//div[@class='_3LWZlK _1BLPMq' or @class='_3LWZlK _32lA32 _1BLPMq' or @class='_3LWZlK _1rdVr6 _1BLPMq']\") \n",
    "            for i in xt1:\n",
    "                ratings=i.text\n",
    "                rating.append(ratings)\n",
    "                       \n",
    "            xt2=driver.find_elements_by_xpath(\"//div[@class= 't-ZTKy']\") \n",
    "            for i in xt2:\n",
    "                reviews=i.text.replace('\\n',' ')\n",
    "                review.append(reviews)\n",
    "            time.sleep(3)\n",
    "            \n",
    "    except(NoSuchElementException):\n",
    "        pass\n",
    "    temp.pop()"
   ]
  },
  {
   "cell_type": "code",
   "execution_count": 41,
   "metadata": {},
   "outputs": [],
   "source": [
    "productname=['professional camera']\n",
    "prolink4=[]"
   ]
  },
  {
   "cell_type": "code",
   "execution_count": 42,
   "metadata": {},
   "outputs": [],
   "source": [
    "driver.get(\"https://www.flipkart.com/\")"
   ]
  },
  {
   "cell_type": "code",
   "execution_count": 43,
   "metadata": {},
   "outputs": [],
   "source": [
    "for m in productname:\n",
    "    search = driver. find_element_by_xpath(\"//div[@class='_3OO5Xc']/input\")\n",
    "    search.clear()\n",
    "    search.send_keys(m)\n",
    "    search_btn = driver.find_element_by_xpath(\"//button[@class='L0Z3Pu']\")\n",
    "    search_btn.click()\n",
    "    for j in range(0,40):\n",
    "        time.sleep(2)\n",
    "        plink=driver.find_elements_by_xpath(\"//a[@class = '_2rpwqI']\")\n",
    "        for i in plink:\n",
    "            h=i.get_attribute('href')\n",
    "            prolink4.append(h)\n",
    "        try:\n",
    "            driver.find_element_by_xpath(\"//a[@class='_1LKTO3'][2]\").click()\n",
    "\n",
    "        except:\n",
    "\n",
    "            driver.find_element_by_xpath(\"//a[@class='_1LKTO3']\").click()"
   ]
  },
  {
   "cell_type": "code",
   "execution_count": 44,
   "metadata": {},
   "outputs": [
    {
     "name": "stderr",
     "output_type": "stream",
     "text": [
      "100%|██████████| 1551/1551 [1:16:31<00:00,  2.96s/it]\n"
     ]
    }
   ],
   "source": [
    "temp = prolink4[::]\n",
    "\n",
    "for a in tqdm(temp[::-1]):    \n",
    "    driver.get(a)\n",
    "    try:\n",
    "        xt=driver.find_element_by_xpath(\"//div[@class= 'col JOpGWq']/a\")\n",
    "        if xt != None:\n",
    "            tt=xt.get_attribute(\"href\")\n",
    "            driver.get(tt)\n",
    "            \n",
    "            xt1=driver.find_elements_by_xpath(\"//div[@class='_3LWZlK _1BLPMq' or @class='_3LWZlK _32lA32 _1BLPMq' or @class='_3LWZlK _1rdVr6 _1BLPMq']\") \n",
    "            for i in xt1:\n",
    "                ratings=i.text\n",
    "                rating.append(ratings)\n",
    "                       \n",
    "            xt2=driver.find_elements_by_xpath(\"//div[@class= 't-ZTKy']\") \n",
    "            for i in xt2:\n",
    "                reviews=i.text.replace('\\n',' ')\n",
    "                review.append(reviews)\n",
    "            time.sleep(3)\n",
    "            \n",
    "    except(NoSuchElementException):\n",
    "        pass\n",
    "    temp.pop()"
   ]
  },
  {
   "cell_type": "code",
   "execution_count": 45,
   "metadata": {},
   "outputs": [],
   "source": [
    "productname=['printer']\n",
    "prolink5=[]"
   ]
  },
  {
   "cell_type": "code",
   "execution_count": 46,
   "metadata": {},
   "outputs": [],
   "source": [
    "driver.get(\"https://www.flipkart.com/\")"
   ]
  },
  {
   "cell_type": "code",
   "execution_count": 47,
   "metadata": {},
   "outputs": [],
   "source": [
    "for m in productname:\n",
    "    search = driver. find_element_by_xpath(\"//div[@class='_3OO5Xc']/input\")\n",
    "    search.clear()\n",
    "    search.send_keys(m)\n",
    "    search_btn = driver.find_element_by_xpath(\"//button[@class='L0Z3Pu']\")\n",
    "    search_btn.click()\n",
    "    for j in range(0,40):\n",
    "        time.sleep(2)\n",
    "        plink=driver.find_elements_by_xpath(\"//a[@class = '_2rpwqI']\")\n",
    "        for i in plink:\n",
    "            h=i.get_attribute('href')\n",
    "            prolink5.append(h)\n",
    "            \n",
    "        try:\n",
    "            driver.find_element_by_xpath(\"//a[@class='_1LKTO3'][2]\").click()\n",
    "\n",
    "        except:\n",
    "\n",
    "            driver.find_element_by_xpath(\"//a[@class='_1LKTO3']\").click()"
   ]
  },
  {
   "cell_type": "code",
   "execution_count": 48,
   "metadata": {},
   "outputs": [],
   "source": [
    "temp = prolink5[::]"
   ]
  },
  {
   "cell_type": "code",
   "execution_count": 49,
   "metadata": {},
   "outputs": [
    {
     "name": "stderr",
     "output_type": "stream",
     "text": [
      "100%|██████████| 1599/1599 [51:48<00:00,  1.94s/it] \n"
     ]
    }
   ],
   "source": [
    "for a in tqdm(temp[::-1]):    \n",
    "    driver.get(a)\n",
    "    try:\n",
    "        xt=driver.find_element_by_xpath(\"//div[@class= 'col JOpGWq']/a\")\n",
    "        if xt != None:\n",
    "            tt=xt.get_attribute(\"href\")\n",
    "            driver.get(tt)\n",
    "            \n",
    "            xt1=driver.find_elements_by_xpath(\"//div[@class='_3LWZlK _1BLPMq' or @class='_3LWZlK _32lA32 _1BLPMq' or @class='_3LWZlK _1rdVr6 _1BLPMq']\") \n",
    "            for i in xt1:\n",
    "                ratings=i.text\n",
    "                rating.append(ratings)\n",
    "                       \n",
    "            xt2=driver.find_elements_by_xpath(\"//div[@class= 't-ZTKy']\") \n",
    "            for i in xt2:\n",
    "                reviews=i.text.replace('\\n',' ')\n",
    "                review.append(reviews)\n",
    "            time.sleep(3)\n",
    "            \n",
    "    except(NoSuchElementException):\n",
    "        pass\n",
    "    temp.pop()"
   ]
  },
  {
   "cell_type": "code",
   "execution_count": 50,
   "metadata": {},
   "outputs": [],
   "source": [
    "productname=['router']\n",
    "prolink6=[]"
   ]
  },
  {
   "cell_type": "code",
   "execution_count": 51,
   "metadata": {},
   "outputs": [],
   "source": [
    "driver.get(\"https://www.flipkart.com/\")"
   ]
  },
  {
   "cell_type": "code",
   "execution_count": 52,
   "metadata": {},
   "outputs": [],
   "source": [
    "for m in productname:\n",
    "    search = driver. find_element_by_xpath(\"//div[@class='_3OO5Xc']/input\")\n",
    "    search.clear()\n",
    "    search.send_keys(m)\n",
    "    search_btn = driver.find_element_by_xpath(\"//button[@class='L0Z3Pu']\")\n",
    "    search_btn.click()\n",
    "    for j in range(0,40):\n",
    "        time.sleep(2)\n",
    "        plink=driver.find_elements_by_xpath(\"//a[@class = '_2rpwqI']\")\n",
    "        for i in plink:\n",
    "            h=i.get_attribute('href')\n",
    "            prolink6.append(h)\n",
    "        try:\n",
    "            driver.find_element_by_xpath(\"//a[@class='_1LKTO3'][2]\").click()\n",
    "\n",
    "        except:\n",
    "\n",
    "            driver.find_element_by_xpath(\"//a[@class='_1LKTO3']\").click()"
   ]
  },
  {
   "cell_type": "code",
   "execution_count": 53,
   "metadata": {},
   "outputs": [],
   "source": [
    "temp = prolink6[::]"
   ]
  },
  {
   "cell_type": "code",
   "execution_count": 54,
   "metadata": {},
   "outputs": [
    {
     "name": "stderr",
     "output_type": "stream",
     "text": [
      "100%|██████████| 1060/1060 [30:55<00:00,  1.75s/it]\n"
     ]
    }
   ],
   "source": [
    "for a in tqdm(temp[::-1]):    \n",
    "    driver.get(a)\n",
    "    try:\n",
    "        xt=driver.find_element_by_xpath(\"//div[@class= 'col JOpGWq']/a\")\n",
    "        if xt != None:\n",
    "            tt=xt.get_attribute(\"href\")\n",
    "            driver.get(tt)\n",
    "            \n",
    "            xt1=driver.find_elements_by_xpath(\"//div[@class='_3LWZlK _1BLPMq' or @class='_3LWZlK _32lA32 _1BLPMq' or @class='_3LWZlK _1rdVr6 _1BLPMq']\") \n",
    "            for i in xt1:\n",
    "                ratings=i.text\n",
    "                rating.append(ratings)\n",
    "                       \n",
    "            xt2=driver.find_elements_by_xpath(\"//div[@class= 't-ZTKy']\") \n",
    "            for i in xt2:\n",
    "                reviews=i.text.replace('\\n',' ')\n",
    "                review.append(reviews)\n",
    "            time.sleep(3)\n",
    "            \n",
    "    except(NoSuchElementException):\n",
    "        pass\n",
    "    temp.pop()"
   ]
  },
  {
   "cell_type": "code",
   "execution_count": 55,
   "metadata": {},
   "outputs": [
    {
     "data": {
      "text/plain": [
       "29368"
      ]
     },
     "execution_count": 55,
     "metadata": {},
     "output_type": "execute_result"
    }
   ],
   "source": [
    "len(rating)"
   ]
  },
  {
   "cell_type": "code",
   "execution_count": 56,
   "metadata": {},
   "outputs": [],
   "source": [
    "productname=['monitor']\n",
    "prolink7=[]"
   ]
  },
  {
   "cell_type": "code",
   "execution_count": 57,
   "metadata": {},
   "outputs": [],
   "source": [
    "driver.get(\"https://www.flipkart.com/\")"
   ]
  },
  {
   "cell_type": "code",
   "execution_count": 58,
   "metadata": {},
   "outputs": [],
   "source": [
    "for m in productname:\n",
    "    search = driver. find_element_by_xpath(\"//div[@class='_3OO5Xc']/input\")\n",
    "    search.clear()\n",
    "    search.send_keys(m)\n",
    "    search_btn = driver.find_element_by_xpath(\"//button[@class='L0Z3Pu']\")\n",
    "    search_btn.click()\n",
    "    for j in range(0,40):\n",
    "        time.sleep(2)\n",
    "        plink=driver.find_elements_by_xpath(\"//a[@class = '_1fQZEK']\")\n",
    "        for i in plink:\n",
    "            h=i.get_attribute('href')\n",
    "            prolink7.append(h)\n",
    "            \n",
    "        try:\n",
    "            driver.find_element_by_xpath(\"//a[@class='_1LKTO3'][2]\").click()\n",
    "\n",
    "        except:\n",
    "\n",
    "            driver.find_element_by_xpath(\"//a[@class='_1LKTO3']\").click()"
   ]
  },
  {
   "cell_type": "code",
   "execution_count": 59,
   "metadata": {},
   "outputs": [
    {
     "data": {
      "text/plain": [
       "960"
      ]
     },
     "execution_count": 59,
     "metadata": {},
     "output_type": "execute_result"
    }
   ],
   "source": [
    "temp = prolink7[::]\n",
    "len(temp)"
   ]
  },
  {
   "cell_type": "code",
   "execution_count": 60,
   "metadata": {},
   "outputs": [
    {
     "name": "stderr",
     "output_type": "stream",
     "text": [
      "100%|██████████| 960/960 [38:37<00:00,  2.41s/it]  \n"
     ]
    }
   ],
   "source": [
    "for a in tqdm(temp[::-1]):    \n",
    "    driver.get(a)\n",
    "    try:\n",
    "        xt=driver.find_element_by_xpath(\"//div[@class= 'col JOpGWq']/a\")\n",
    "        if xt != None:\n",
    "            tt=xt.get_attribute(\"href\")\n",
    "            driver.get(tt)\n",
    "            \n",
    "            xt1=driver.find_elements_by_xpath(\"//div[@class='_3LWZlK _1BLPMq' or @class='_3LWZlK _32lA32 _1BLPMq' or @class='_3LWZlK _1rdVr6 _1BLPMq']\") \n",
    "            for i in xt1:\n",
    "                ratings=i.text\n",
    "                rating.append(ratings)\n",
    "                       \n",
    "            xt2=driver.find_elements_by_xpath(\"//div[@class= 't-ZTKy']\") \n",
    "            for i in xt2:\n",
    "                reviews=i.text.replace('\\n',' ')\n",
    "                review.append(reviews)\n",
    "            time.sleep(3)\n",
    "            \n",
    "    except(NoSuchElementException):\n",
    "        pass\n",
    "    temp.pop()"
   ]
  },
  {
   "cell_type": "code",
   "execution_count": 61,
   "metadata": {},
   "outputs": [],
   "source": [
    "productname=['smart watches']\n",
    "prolink8=[]"
   ]
  },
  {
   "cell_type": "code",
   "execution_count": 62,
   "metadata": {},
   "outputs": [],
   "source": [
    "driver.get(\"https://www.flipkart.com/\")"
   ]
  },
  {
   "cell_type": "code",
   "execution_count": 63,
   "metadata": {},
   "outputs": [],
   "source": [
    "for m in productname:\n",
    "    search = driver. find_element_by_xpath(\"//div[@class='_3OO5Xc']/input\")\n",
    "    search.clear()\n",
    "    search.send_keys(m)\n",
    "    search_btn = driver.find_element_by_xpath(\"//button[@class='L0Z3Pu']\")\n",
    "    search_btn.click()\n",
    "    for j in range(0,40):\n",
    "        time.sleep(2)\n",
    "        plink=driver.find_elements_by_xpath(\"//a[@class = '_1fQZEK']\")\n",
    "        for i in plink:\n",
    "            h=i.get_attribute('href')\n",
    "            prolink8.append(h)\n",
    "            \n",
    "        try:\n",
    "            driver.find_element_by_xpath(\"//a[@class='_1LKTO3'][2]\").click()\n",
    "\n",
    "        except:\n",
    "\n",
    "            driver.find_element_by_xpath(\"//a[@class='_1LKTO3']\").click()"
   ]
  },
  {
   "cell_type": "code",
   "execution_count": 64,
   "metadata": {},
   "outputs": [
    {
     "data": {
      "text/plain": [
       "960"
      ]
     },
     "execution_count": 64,
     "metadata": {},
     "output_type": "execute_result"
    }
   ],
   "source": [
    "temp = prolink8[::]\n",
    "len(temp)"
   ]
  },
  {
   "cell_type": "code",
   "execution_count": 65,
   "metadata": {},
   "outputs": [
    {
     "name": "stderr",
     "output_type": "stream",
     "text": [
      "100%|██████████| 960/960 [38:39<00:00,  2.42s/it]  \n"
     ]
    }
   ],
   "source": [
    "for a in tqdm(temp[::-1]):    \n",
    "    driver.get(a)\n",
    "    try:\n",
    "        xt=driver.find_element_by_xpath(\"//div[@class= 'col JOpGWq']/a\")\n",
    "        if xt != None:\n",
    "            tt=xt.get_attribute(\"href\")\n",
    "            driver.get(tt)\n",
    "            \n",
    "            xt1=driver.find_elements_by_xpath(\"//div[@class='_3LWZlK _1BLPMq' or @class='_3LWZlK _32lA32 _1BLPMq' or @class='_3LWZlK _1rdVr6 _1BLPMq']\") \n",
    "            for i in xt1:\n",
    "                ratings=i.text\n",
    "                rating.append(ratings)\n",
    "                       \n",
    "            xt2=driver.find_elements_by_xpath(\"//div[@class= 't-ZTKy']\") \n",
    "            for i in xt2:\n",
    "                reviews=i.text.replace('\\n',' ')\n",
    "                review.append(reviews)\n",
    "            time.sleep(3)\n",
    "            \n",
    "    except(NoSuchElementException):\n",
    "        pass\n",
    "    temp.pop()"
   ]
  },
  {
   "cell_type": "code",
   "execution_count": 66,
   "metadata": {},
   "outputs": [],
   "source": [
    "productname=['home theater']\n",
    "prolink9=[]"
   ]
  },
  {
   "cell_type": "code",
   "execution_count": 67,
   "metadata": {},
   "outputs": [],
   "source": [
    "driver.get(\"https://www.flipkart.com/\")"
   ]
  },
  {
   "cell_type": "code",
   "execution_count": 68,
   "metadata": {},
   "outputs": [],
   "source": [
    "for m in productname:\n",
    "    search = driver. find_element_by_xpath(\"//div[@class='_3OO5Xc']/input\")\n",
    "    search.clear()\n",
    "    search.send_keys(m)\n",
    "    search_btn = driver.find_element_by_xpath(\"//button[@class='L0Z3Pu']\")\n",
    "    search_btn.click()\n",
    "    for j in range(0,40):\n",
    "        time.sleep(2)\n",
    "        plink=driver.find_elements_by_xpath(\"//a[@class = '_2rpwqI']\")\n",
    "        for i in plink:\n",
    "            h=i.get_attribute('href')\n",
    "            prolink9.append(h)\n",
    "        try:\n",
    "            driver.find_element_by_xpath(\"//a[@class='_1LKTO3'][2]\").click()\n",
    "\n",
    "        except:\n",
    "\n",
    "            driver.find_element_by_xpath(\"//a[@class='_1LKTO3']\").click()"
   ]
  },
  {
   "cell_type": "code",
   "execution_count": 69,
   "metadata": {},
   "outputs": [
    {
     "data": {
      "text/plain": [
       "1600"
      ]
     },
     "execution_count": 69,
     "metadata": {},
     "output_type": "execute_result"
    }
   ],
   "source": [
    "temp = prolink9[::]\n",
    "len(temp)"
   ]
  },
  {
   "cell_type": "code",
   "execution_count": 70,
   "metadata": {},
   "outputs": [
    {
     "name": "stderr",
     "output_type": "stream",
     "text": [
      "100%|██████████| 1600/1600 [1:03:35<00:00,  2.38s/it]\n"
     ]
    }
   ],
   "source": [
    "for a in tqdm(temp[::-1]):    \n",
    "    driver.get(a)\n",
    "    try:\n",
    "        xt=driver.find_element_by_xpath(\"//div[@class= 'col JOpGWq']/a\")\n",
    "        if xt != None:\n",
    "            tt=xt.get_attribute(\"href\")\n",
    "            driver.get(tt)\n",
    "            \n",
    "            xt1=driver.find_elements_by_xpath(\"//div[@class='_3LWZlK _1BLPMq' or @class='_3LWZlK _32lA32 _1BLPMq' or @class='_3LWZlK _1rdVr6 _1BLPMq']\") \n",
    "            for i in xt1:\n",
    "                ratings=i.text\n",
    "                rating.append(ratings)\n",
    "                       \n",
    "            xt2=driver.find_elements_by_xpath(\"//div[@class= 't-ZTKy']\") \n",
    "            for i in xt2:\n",
    "                reviews=i.text.replace('\\n',' ')\n",
    "                review.append(reviews)\n",
    "            time.sleep(3)\n",
    "            \n",
    "    except(NoSuchElementException):\n",
    "        pass\n",
    "    temp.pop()"
   ]
  },
  {
   "cell_type": "code",
   "execution_count": null,
   "metadata": {},
   "outputs": [],
   "source": []
  },
  {
   "cell_type": "code",
   "execution_count": 101,
   "metadata": {},
   "outputs": [],
   "source": [
    "#creating a dataframe\n",
    "df_flipkart=pd.DataFrame({'reviews':review,\n",
    "                         'ratings':rating})"
   ]
  },
  {
   "cell_type": "code",
   "execution_count": 102,
   "metadata": {},
   "outputs": [
    {
     "data": {
      "text/html": [
       "<div>\n",
       "<style scoped>\n",
       "    .dataframe tbody tr th:only-of-type {\n",
       "        vertical-align: middle;\n",
       "    }\n",
       "\n",
       "    .dataframe tbody tr th {\n",
       "        vertical-align: top;\n",
       "    }\n",
       "\n",
       "    .dataframe thead th {\n",
       "        text-align: right;\n",
       "    }\n",
       "</style>\n",
       "<table border=\"1\" class=\"dataframe\">\n",
       "  <thead>\n",
       "    <tr style=\"text-align: right;\">\n",
       "      <th></th>\n",
       "      <th>reviews</th>\n",
       "      <th>ratings</th>\n",
       "    </tr>\n",
       "  </thead>\n",
       "  <tbody>\n",
       "    <tr>\n",
       "      <th>0</th>\n",
       "      <td>Highly recommended Looks premium and good quality</td>\n",
       "      <td>5</td>\n",
       "    </tr>\n",
       "    <tr>\n",
       "      <th>1</th>\n",
       "      <td>Best laptop performance is very good only batt...</td>\n",
       "      <td>5</td>\n",
       "    </tr>\n",
       "    <tr>\n",
       "      <th>2</th>\n",
       "      <td>Works fine with recent games and with some 2-3...</td>\n",
       "      <td>4</td>\n",
       "    </tr>\n",
       "    <tr>\n",
       "      <th>3</th>\n",
       "      <td>good</td>\n",
       "      <td>3</td>\n",
       "    </tr>\n",
       "    <tr>\n",
       "      <th>4</th>\n",
       "      <td>Suuperr product</td>\n",
       "      <td>4</td>\n",
       "    </tr>\n",
       "    <tr>\n",
       "      <th>...</th>\n",
       "      <td>...</td>\n",
       "      <td>...</td>\n",
       "    </tr>\n",
       "    <tr>\n",
       "      <th>72786</th>\n",
       "      <td>Overall Mobile is excellent...to our childrens...</td>\n",
       "      <td>5</td>\n",
       "    </tr>\n",
       "    <tr>\n",
       "      <th>72787</th>\n",
       "      <td>Good smartphone for medium usage.</td>\n",
       "      <td>5</td>\n",
       "    </tr>\n",
       "    <tr>\n",
       "      <th>72788</th>\n",
       "      <td>It's batter to buy stock android over ads and ...</td>\n",
       "      <td>5</td>\n",
       "    </tr>\n",
       "    <tr>\n",
       "      <th>72789</th>\n",
       "      <td>Nice phone at given price..</td>\n",
       "      <td>5</td>\n",
       "    </tr>\n",
       "    <tr>\n",
       "      <th>72790</th>\n",
       "      <td>Nice mobile.. purchased for my mother</td>\n",
       "      <td>5</td>\n",
       "    </tr>\n",
       "  </tbody>\n",
       "</table>\n",
       "<p>72791 rows × 2 columns</p>\n",
       "</div>"
      ],
      "text/plain": [
       "                                                 reviews ratings\n",
       "0      Highly recommended Looks premium and good quality       5\n",
       "1      Best laptop performance is very good only batt...       5\n",
       "2      Works fine with recent games and with some 2-3...       4\n",
       "3                                                   good       3\n",
       "4                                        Suuperr product       4\n",
       "...                                                  ...     ...\n",
       "72786  Overall Mobile is excellent...to our childrens...       5\n",
       "72787                  Good smartphone for medium usage.       5\n",
       "72788  It's batter to buy stock android over ads and ...       5\n",
       "72789                        Nice phone at given price..       5\n",
       "72790              Nice mobile.. purchased for my mother       5\n",
       "\n",
       "[72791 rows x 2 columns]"
      ]
     },
     "execution_count": 102,
     "metadata": {},
     "output_type": "execute_result"
    }
   ],
   "source": [
    "df_flipkart"
   ]
  },
  {
   "cell_type": "code",
   "execution_count": 112,
   "metadata": {},
   "outputs": [],
   "source": [
    "#saving flipkart data in csv form\n",
    "df_flipkart.to_csv('Flipkart123.csv')"
   ]
  },
  {
   "cell_type": "code",
   "execution_count": 107,
   "metadata": {},
   "outputs": [
    {
     "data": {
      "text/html": [
       "<div>\n",
       "<style scoped>\n",
       "    .dataframe tbody tr th:only-of-type {\n",
       "        vertical-align: middle;\n",
       "    }\n",
       "\n",
       "    .dataframe tbody tr th {\n",
       "        vertical-align: top;\n",
       "    }\n",
       "\n",
       "    .dataframe thead th {\n",
       "        text-align: right;\n",
       "    }\n",
       "</style>\n",
       "<table border=\"1\" class=\"dataframe\">\n",
       "  <thead>\n",
       "    <tr style=\"text-align: right;\">\n",
       "      <th></th>\n",
       "      <th>Unnamed: 0</th>\n",
       "      <th>reviews</th>\n",
       "      <th>ratings</th>\n",
       "    </tr>\n",
       "  </thead>\n",
       "  <tbody>\n",
       "    <tr>\n",
       "      <th>0</th>\n",
       "      <td>0</td>\n",
       "      <td>Disclaimer: I am an I.T. network person at a l...</td>\n",
       "      <td>5</td>\n",
       "    </tr>\n",
       "    <tr>\n",
       "      <th>1</th>\n",
       "      <td>1</td>\n",
       "      <td>I bought the NETGEAR AX6600 to upgrade my old ...</td>\n",
       "      <td>1</td>\n",
       "    </tr>\n",
       "    <tr>\n",
       "      <th>2</th>\n",
       "      <td>2</td>\n",
       "      <td>I bought this to upgrade my older nighthawk r8...</td>\n",
       "      <td>1</td>\n",
       "    </tr>\n",
       "    <tr>\n",
       "      <th>3</th>\n",
       "      <td>3</td>\n",
       "      <td>This router replaced a great R7800 router whic...</td>\n",
       "      <td>5</td>\n",
       "    </tr>\n",
       "    <tr>\n",
       "      <th>4</th>\n",
       "      <td>4</td>\n",
       "      <td>Router #1 I received from the pre-order had a ...</td>\n",
       "      <td>1</td>\n",
       "    </tr>\n",
       "    <tr>\n",
       "      <th>...</th>\n",
       "      <td>...</td>\n",
       "      <td>...</td>\n",
       "      <td>...</td>\n",
       "    </tr>\n",
       "    <tr>\n",
       "      <th>26983</th>\n",
       "      <td>26983</td>\n",
       "      <td>Working great so far</td>\n",
       "      <td>5</td>\n",
       "    </tr>\n",
       "    <tr>\n",
       "      <th>26984</th>\n",
       "      <td>26984</td>\n",
       "      <td>The camera was very bad,I had to return it</td>\n",
       "      <td>1</td>\n",
       "    </tr>\n",
       "    <tr>\n",
       "      <th>26985</th>\n",
       "      <td>26985</td>\n",
       "      <td>It works really well for my games.</td>\n",
       "      <td>5</td>\n",
       "    </tr>\n",
       "    <tr>\n",
       "      <th>26986</th>\n",
       "      <td>26986</td>\n",
       "      <td>Its a great laptop for the price, works well, ...</td>\n",
       "      <td>5</td>\n",
       "    </tr>\n",
       "    <tr>\n",
       "      <th>26987</th>\n",
       "      <td>26987</td>\n",
       "      <td>Love this Lenovo laptop. I like the size of th...</td>\n",
       "      <td>5</td>\n",
       "    </tr>\n",
       "  </tbody>\n",
       "</table>\n",
       "<p>26988 rows × 3 columns</p>\n",
       "</div>"
      ],
      "text/plain": [
       "       Unnamed: 0                                            reviews ratings\n",
       "0               0  Disclaimer: I am an I.T. network person at a l...       5\n",
       "1               1  I bought the NETGEAR AX6600 to upgrade my old ...       1\n",
       "2               2  I bought this to upgrade my older nighthawk r8...       1\n",
       "3               3  This router replaced a great R7800 router whic...       5\n",
       "4               4  Router #1 I received from the pre-order had a ...       1\n",
       "...           ...                                                ...     ...\n",
       "26983       26983                               Working great so far       5\n",
       "26984       26984         The camera was very bad,I had to return it       1\n",
       "26985       26985                 It works really well for my games.       5\n",
       "26986       26986  Its a great laptop for the price, works well, ...       5\n",
       "26987       26987  Love this Lenovo laptop. I like the size of th...       5\n",
       "\n",
       "[26988 rows x 3 columns]"
      ]
     },
     "execution_count": 107,
     "metadata": {},
     "output_type": "execute_result"
    }
   ],
   "source": [
    "#loading amazon dataset\n",
    "df_amazon=pd.read_csv('amazon_rating.csv')\n",
    "df_amazon"
   ]
  },
  {
   "cell_type": "markdown",
   "metadata": {},
   "source": [
    "###### combining amazon and flipkart data"
   ]
  },
  {
   "cell_type": "code",
   "execution_count": 109,
   "metadata": {},
   "outputs": [],
   "source": [
    "data3=pd.concat([df_amazon,df_flipkart],axis=0,ignore_index=True)"
   ]
  },
  {
   "cell_type": "code",
   "execution_count": 114,
   "metadata": {},
   "outputs": [
    {
     "data": {
      "text/html": [
       "<div>\n",
       "<style scoped>\n",
       "    .dataframe tbody tr th:only-of-type {\n",
       "        vertical-align: middle;\n",
       "    }\n",
       "\n",
       "    .dataframe tbody tr th {\n",
       "        vertical-align: top;\n",
       "    }\n",
       "\n",
       "    .dataframe thead th {\n",
       "        text-align: right;\n",
       "    }\n",
       "</style>\n",
       "<table border=\"1\" class=\"dataframe\">\n",
       "  <thead>\n",
       "    <tr style=\"text-align: right;\">\n",
       "      <th></th>\n",
       "      <th>Unnamed: 0</th>\n",
       "      <th>reviews</th>\n",
       "      <th>ratings</th>\n",
       "    </tr>\n",
       "  </thead>\n",
       "  <tbody>\n",
       "    <tr>\n",
       "      <th>0</th>\n",
       "      <td>0.0</td>\n",
       "      <td>Disclaimer: I am an I.T. network person at a l...</td>\n",
       "      <td>5</td>\n",
       "    </tr>\n",
       "    <tr>\n",
       "      <th>1</th>\n",
       "      <td>1.0</td>\n",
       "      <td>I bought the NETGEAR AX6600 to upgrade my old ...</td>\n",
       "      <td>1</td>\n",
       "    </tr>\n",
       "    <tr>\n",
       "      <th>2</th>\n",
       "      <td>2.0</td>\n",
       "      <td>I bought this to upgrade my older nighthawk r8...</td>\n",
       "      <td>1</td>\n",
       "    </tr>\n",
       "    <tr>\n",
       "      <th>3</th>\n",
       "      <td>3.0</td>\n",
       "      <td>This router replaced a great R7800 router whic...</td>\n",
       "      <td>5</td>\n",
       "    </tr>\n",
       "    <tr>\n",
       "      <th>4</th>\n",
       "      <td>4.0</td>\n",
       "      <td>Router #1 I received from the pre-order had a ...</td>\n",
       "      <td>1</td>\n",
       "    </tr>\n",
       "    <tr>\n",
       "      <th>...</th>\n",
       "      <td>...</td>\n",
       "      <td>...</td>\n",
       "      <td>...</td>\n",
       "    </tr>\n",
       "    <tr>\n",
       "      <th>99774</th>\n",
       "      <td>NaN</td>\n",
       "      <td>Overall Mobile is excellent...to our childrens...</td>\n",
       "      <td>5</td>\n",
       "    </tr>\n",
       "    <tr>\n",
       "      <th>99775</th>\n",
       "      <td>NaN</td>\n",
       "      <td>Good smartphone for medium usage.</td>\n",
       "      <td>5</td>\n",
       "    </tr>\n",
       "    <tr>\n",
       "      <th>99776</th>\n",
       "      <td>NaN</td>\n",
       "      <td>It's batter to buy stock android over ads and ...</td>\n",
       "      <td>5</td>\n",
       "    </tr>\n",
       "    <tr>\n",
       "      <th>99777</th>\n",
       "      <td>NaN</td>\n",
       "      <td>Nice phone at given price..</td>\n",
       "      <td>5</td>\n",
       "    </tr>\n",
       "    <tr>\n",
       "      <th>99778</th>\n",
       "      <td>NaN</td>\n",
       "      <td>Nice mobile.. purchased for my mother</td>\n",
       "      <td>5</td>\n",
       "    </tr>\n",
       "  </tbody>\n",
       "</table>\n",
       "<p>99779 rows × 3 columns</p>\n",
       "</div>"
      ],
      "text/plain": [
       "       Unnamed: 0                                            reviews ratings\n",
       "0             0.0  Disclaimer: I am an I.T. network person at a l...       5\n",
       "1             1.0  I bought the NETGEAR AX6600 to upgrade my old ...       1\n",
       "2             2.0  I bought this to upgrade my older nighthawk r8...       1\n",
       "3             3.0  This router replaced a great R7800 router whic...       5\n",
       "4             4.0  Router #1 I received from the pre-order had a ...       1\n",
       "...           ...                                                ...     ...\n",
       "99774         NaN  Overall Mobile is excellent...to our childrens...       5\n",
       "99775         NaN                  Good smartphone for medium usage.       5\n",
       "99776         NaN  It's batter to buy stock android over ads and ...       5\n",
       "99777         NaN                        Nice phone at given price..       5\n",
       "99778         NaN              Nice mobile.. purchased for my mother       5\n",
       "\n",
       "[99779 rows x 3 columns]"
      ]
     },
     "execution_count": 114,
     "metadata": {},
     "output_type": "execute_result"
    }
   ],
   "source": [
    "data3"
   ]
  },
  {
   "cell_type": "code",
   "execution_count": 115,
   "metadata": {},
   "outputs": [],
   "source": [
    "#saving final dataset in csv form\n",
    "data3.to_csv('amazon_flipkart_reviews.csv')"
   ]
  },
  {
   "cell_type": "code",
   "execution_count": null,
   "metadata": {},
   "outputs": [],
   "source": []
  }
 ],
 "metadata": {
  "kernelspec": {
   "display_name": "Python 3",
   "language": "python",
   "name": "python3"
  },
  "language_info": {
   "codemirror_mode": {
    "name": "ipython",
    "version": 3
   },
   "file_extension": ".py",
   "mimetype": "text/x-python",
   "name": "python",
   "nbconvert_exporter": "python",
   "pygments_lexer": "ipython3",
   "version": "3.8.5"
  }
 },
 "nbformat": 4,
 "nbformat_minor": 4
}
